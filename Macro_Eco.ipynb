{
  "nbformat": 4,
  "nbformat_minor": 0,
  "metadata": {
    "colab": {
      "provenance": [],
      "toc_visible": true,
      "authorship_tag": "ABX9TyPz1cGrki3pKONo5pAbVQgl",
      "include_colab_link": true
    },
    "kernelspec": {
      "name": "python3",
      "display_name": "Python 3"
    },
    "language_info": {
      "name": "python"
    }
  },
  "cells": [
    {
      "cell_type": "markdown",
      "metadata": {
        "id": "view-in-github",
        "colab_type": "text"
      },
      "source": [
        "<a href=\"https://colab.research.google.com/github/awais-riaz313/EcoMacroTrends/blob/main/Macro_Eco.ipynb\" target=\"_parent\"><img src=\"https://colab.research.google.com/assets/colab-badge.svg\" alt=\"Open In Colab\"/></a>"
      ]
    },
    {
      "cell_type": "markdown",
      "source": [
        "# Real World Project with Using Python\n",
        "# ✅ 1. Trend of Inflation, Interest Rate, and GDP Growth (2015–2024)"
      ],
      "metadata": {
        "id": "hCbyQzl2_qHI"
      }
    },
    {
      "cell_type": "markdown",
      "source": [
        "✅ Step 1: Data Preparation\n",
        "🔹 Q1: How to load the data and explore basic structure?"
      ],
      "metadata": {
        "id": "C4K0PghiPCDJ"
      }
    },
    {
      "cell_type": "code",
      "source": [
        "import pandas as pd\n",
        "\n",
        "# Replace filename.csv with your actual file name\n",
        "df = pd.read_csv(\"eco_data_final.csv\", encoding='ISO-8859-1')\n"
      ],
      "metadata": {
        "id": "vJ_IfpuYn4nS"
      },
      "execution_count": 3,
      "outputs": []
    },
    {
      "cell_type": "code",
      "source": [
        "# Preview data\n",
        "print(df.head())"
      ],
      "metadata": {
        "colab": {
          "base_uri": "https://localhost:8080/"
        },
        "id": "IRU-jlpdOjRU",
        "outputId": "0dc4d9da-5fe1-43dd-a821-647da4b5b030"
      },
      "execution_count": 4,
      "outputs": [
        {
          "output_type": "stream",
          "name": "stdout",
          "text": [
            "  Country_Name  C_Id  Years   CPI_(%) Interest_rate (%)  LNGDP_(%)\n",
            "0        India     1   2015  4.906973       10.00833333  28.372958\n",
            "1        India     1   2016  4.948216            9.6725  28.455197\n",
            "2        India     1   2017  3.328173       9.508333333  28.518912\n",
            "3        India     1   2018  3.938826       9.454166667  28.582679\n",
            "4        India     1   2019  3.729506           9.46625  28.620562\n"
          ]
        }
      ]
    },
    {
      "cell_type": "code",
      "source": [
        "print(df.tail())"
      ],
      "metadata": {
        "colab": {
          "base_uri": "https://localhost:8080/"
        },
        "id": "kopUTRgAPPFj",
        "outputId": "4921c3be-d2a3-4d0e-faf1-afb7a1044b0d"
      },
      "execution_count": 5,
      "outputs": [
        {
          "output_type": "stream",
          "name": "stdout",
          "text": [
            "   Country_Name  C_Id  Years    CPI_(%) Interest_rate (%)  LNGDP_(%)\n",
            "25          PAK     3   2020   9.739993       10.75774943  26.606588\n",
            "26          PAK     3   2021   9.496211       8.665974215  26.668686\n",
            "27          PAK     3   2022  19.873860                 .  26.714730\n",
            "28          PAK     3   2023  30.768128                 .  26.714730\n",
            "29          PAK     3   2024  12.632532                 .  26.746713\n"
          ]
        }
      ]
    },
    {
      "cell_type": "code",
      "source": [
        "print(df.info())"
      ],
      "metadata": {
        "colab": {
          "base_uri": "https://localhost:8080/"
        },
        "id": "jFCL1X2_PVLt",
        "outputId": "3d088392-777f-4922-a92a-e13f0841aca5"
      },
      "execution_count": 6,
      "outputs": [
        {
          "output_type": "stream",
          "name": "stdout",
          "text": [
            "<class 'pandas.core.frame.DataFrame'>\n",
            "RangeIndex: 30 entries, 0 to 29\n",
            "Data columns (total 6 columns):\n",
            " #   Column             Non-Null Count  Dtype  \n",
            "---  ------             --------------  -----  \n",
            " 0   Country_Name       30 non-null     object \n",
            " 1   C_Id               30 non-null     int64  \n",
            " 2   Years              30 non-null     int64  \n",
            " 3   CPI_(%)            30 non-null     float64\n",
            " 4   Interest_rate (%)  30 non-null     object \n",
            " 5   LNGDP_(%)          30 non-null     float64\n",
            "dtypes: float64(2), int64(2), object(2)\n",
            "memory usage: 1.5+ KB\n",
            "None\n"
          ]
        }
      ]
    },
    {
      "cell_type": "markdown",
      "source": [
        "Interest_rate (%) is showing as object instead of float64\n",
        "This happens because some values are . (dot), which is a string, making the whole column fall back to object type."
      ],
      "metadata": {
        "id": "x0XVeiRkQR06"
      }
    },
    {
      "cell_type": "code",
      "source": [
        "# Convert Interest_rate column to numeric, forcing non-numeric entries like '.' to NaN\n",
        "df['Interest_rate (%)'] = pd.to_numeric(df['Interest_rate (%)'], errors='coerce')\n",
        "\n",
        "# Confirm the change\n",
        "print(df.info())"
      ],
      "metadata": {
        "colab": {
          "base_uri": "https://localhost:8080/"
        },
        "id": "btFNQYQePbPt",
        "outputId": "42be1ba6-2d15-467a-ab18-f3ab3642c395"
      },
      "execution_count": 7,
      "outputs": [
        {
          "output_type": "stream",
          "name": "stdout",
          "text": [
            "<class 'pandas.core.frame.DataFrame'>\n",
            "RangeIndex: 30 entries, 0 to 29\n",
            "Data columns (total 6 columns):\n",
            " #   Column             Non-Null Count  Dtype  \n",
            "---  ------             --------------  -----  \n",
            " 0   Country_Name       30 non-null     object \n",
            " 1   C_Id               30 non-null     int64  \n",
            " 2   Years              30 non-null     int64  \n",
            " 3   CPI_(%)            30 non-null     float64\n",
            " 4   Interest_rate (%)  22 non-null     float64\n",
            " 5   LNGDP_(%)          30 non-null     float64\n",
            "dtypes: float64(3), int64(2), object(1)\n",
            "memory usage: 1.5+ KB\n",
            "None\n"
          ]
        }
      ]
    },
    {
      "cell_type": "markdown",
      "source": [
        "# Summary statistics\n",
        "🔍 Why Use include='all'?\n",
        "By default, df.describe() only includes numeric columns. But your dataset has both:\n",
        "\n",
        "Numeric: CPI_(%), Interest_rate (%), LNGDP_(%)\n",
        "\n",
        "Categorical: Country_Name\n",
        "\n",
        "If you want summary info for all columns, not just numeric ones, you must use include='all'"
      ],
      "metadata": {
        "id": "1JsWfiSuQjza"
      }
    },
    {
      "cell_type": "code",
      "source": [
        "print(df.describe(include='all'))"
      ],
      "metadata": {
        "colab": {
          "base_uri": "https://localhost:8080/"
        },
        "id": "2MRmH0OkQXWG",
        "outputId": "9d1ce5e2-9259-4c8d-822d-a29ac47c17f2"
      },
      "execution_count": 8,
      "outputs": [
        {
          "output_type": "stream",
          "name": "stdout",
          "text": [
            "       Country_Name       C_Id        Years    CPI_(%)  Interest_rate (%)  \\\n",
            "count            30  30.000000    30.000000  30.000000          22.000000   \n",
            "unique            3        NaN          NaN        NaN                NaN   \n",
            "top           India        NaN          NaN        NaN                NaN   \n",
            "freq             10        NaN          NaN        NaN                NaN   \n",
            "mean            NaN   2.000000  2019.500000   6.240665           7.712849   \n",
            "std             NaN   0.830455     2.921384   6.108532           2.781176   \n",
            "min             NaN   1.000000  2015.000000   0.118627           3.250000   \n",
            "25%             NaN   1.000000  2017.000000   3.044187           4.998750   \n",
            "50%             NaN   2.000000  2019.500000   4.802416           8.682154   \n",
            "75%             NaN   3.000000  2022.000000   6.680135           9.497812   \n",
            "max             NaN   3.000000  2024.000000  30.768128          12.233055   \n",
            "\n",
            "        LNGDP_(%)  \n",
            "count   30.000000  \n",
            "unique        NaN  \n",
            "top           NaN  \n",
            "freq          NaN  \n",
            "mean    28.622529  \n",
            "std      1.675609  \n",
            "min     26.427048  \n",
            "25%     26.714730  \n",
            "50%     28.601621  \n",
            "75%     30.574078  \n",
            "max     30.753386  \n"
          ]
        }
      ]
    },
    {
      "cell_type": "markdown",
      "source": [
        "🔹 Q2: How to identify and handle missing values (e.g., interest rates)?"
      ],
      "metadata": {
        "id": "C8yretL6RH5w"
      }
    },
    {
      "cell_type": "code",
      "source": [
        "# Count missing values\n",
        "print(df.isna().sum())"
      ],
      "metadata": {
        "colab": {
          "base_uri": "https://localhost:8080/"
        },
        "id": "YFYrJLn0Qujm",
        "outputId": "d9b7b220-d98a-46a0-def8-e94824d9066c"
      },
      "execution_count": 9,
      "outputs": [
        {
          "output_type": "stream",
          "name": "stdout",
          "text": [
            "Country_Name         0\n",
            "C_Id                 0\n",
            "Years                0\n",
            "CPI_(%)              0\n",
            "Interest_rate (%)    8\n",
            "LNGDP_(%)            0\n",
            "dtype: int64\n"
          ]
        }
      ]
    },
    {
      "cell_type": "code",
      "source": [
        "## Replace missing 'Interest_rate (%)' with country-wise mean\n",
        "df['Interest_rate (%)']=df.groupby('Country_Name')['Interest_rate (%)'].transform(lambda x:x.fillna(x.mean()))"
      ],
      "metadata": {
        "id": "P4NG77dzqcZk"
      },
      "execution_count": 11,
      "outputs": []
    },
    {
      "cell_type": "code",
      "source": [
        "print(df.isna().sum())"
      ],
      "metadata": {
        "colab": {
          "base_uri": "https://localhost:8080/"
        },
        "id": "7N5FLgsirqlt",
        "outputId": "57a51f4c-bbe7-41c6-cc22-02df7a213339"
      },
      "execution_count": 12,
      "outputs": [
        {
          "output_type": "stream",
          "name": "stdout",
          "text": [
            "Country_Name         0\n",
            "C_Id                 0\n",
            "Years                0\n",
            "CPI_(%)              0\n",
            "Interest_rate (%)    0\n",
            "LNGDP_(%)            0\n",
            "dtype: int64\n"
          ]
        }
      ]
    },
    {
      "cell_type": "code",
      "source": [
        "df.duplicated().sum()"
      ],
      "metadata": {
        "colab": {
          "base_uri": "https://localhost:8080/"
        },
        "id": "dhKPIygms5UU",
        "outputId": "89adaa9a-4dbf-49e0-d303-f9ced8993f0d"
      },
      "execution_count": 13,
      "outputs": [
        {
          "output_type": "execute_result",
          "data": {
            "text/plain": [
              "np.int64(0)"
            ]
          },
          "metadata": {},
          "execution_count": 13
        }
      ]
    },
    {
      "cell_type": "code",
      "source": [
        "df[['Country_Name', 'Years', 'Interest_rate (%)']]\n"
      ],
      "metadata": {
        "colab": {
          "base_uri": "https://localhost:8080/",
          "height": 990
        },
        "id": "1iGJtNeJr7-T",
        "outputId": "3c9bce67-e124-4ba9-dd25-a80f0e392090"
      },
      "execution_count": 14,
      "outputs": [
        {
          "output_type": "execute_result",
          "data": {
            "text/plain": [
              "   Country_Name  Years  Interest_rate (%)\n",
              "0         India   2015          10.008333\n",
              "1         India   2016           9.672500\n",
              "2         India   2017           9.508333\n",
              "3         India   2018           9.454167\n",
              "4         India   2019           9.466250\n",
              "5         India   2020           9.150000\n",
              "6         India   2021           8.698333\n",
              "7         India   2022           8.567143\n",
              "8         India   2023           9.315632\n",
              "9         India   2024           9.315632\n",
              "10          USA   2015           3.260000\n",
              "11          USA   2016           3.511667\n",
              "12          USA   2017           4.096667\n",
              "13          USA   2018           4.904167\n",
              "14          USA   2019           5.282500\n",
              "15          USA   2020           3.544167\n",
              "16          USA   2021           3.250000\n",
              "17          USA   2022           3.978452\n",
              "18          USA   2023           3.978452\n",
              "19          USA   2024           3.978452\n",
              "20          PAK   2015          10.155833\n",
              "21          PAK   2016           8.755000\n",
              "22          PAK   2017           8.210000\n",
              "23          PAK   2018           8.530833\n",
              "24          PAK   2019          12.233055\n",
              "25          PAK   2020          10.757749\n",
              "26          PAK   2021           8.665974\n",
              "27          PAK   2022           9.615492\n",
              "28          PAK   2023           9.615492\n",
              "29          PAK   2024           9.615492"
            ],
            "text/html": [
              "\n",
              "  <div id=\"df-513b09ca-d93f-41a5-9214-ab276a9e8a0d\" class=\"colab-df-container\">\n",
              "    <div>\n",
              "<style scoped>\n",
              "    .dataframe tbody tr th:only-of-type {\n",
              "        vertical-align: middle;\n",
              "    }\n",
              "\n",
              "    .dataframe tbody tr th {\n",
              "        vertical-align: top;\n",
              "    }\n",
              "\n",
              "    .dataframe thead th {\n",
              "        text-align: right;\n",
              "    }\n",
              "</style>\n",
              "<table border=\"1\" class=\"dataframe\">\n",
              "  <thead>\n",
              "    <tr style=\"text-align: right;\">\n",
              "      <th></th>\n",
              "      <th>Country_Name</th>\n",
              "      <th>Years</th>\n",
              "      <th>Interest_rate (%)</th>\n",
              "    </tr>\n",
              "  </thead>\n",
              "  <tbody>\n",
              "    <tr>\n",
              "      <th>0</th>\n",
              "      <td>India</td>\n",
              "      <td>2015</td>\n",
              "      <td>10.008333</td>\n",
              "    </tr>\n",
              "    <tr>\n",
              "      <th>1</th>\n",
              "      <td>India</td>\n",
              "      <td>2016</td>\n",
              "      <td>9.672500</td>\n",
              "    </tr>\n",
              "    <tr>\n",
              "      <th>2</th>\n",
              "      <td>India</td>\n",
              "      <td>2017</td>\n",
              "      <td>9.508333</td>\n",
              "    </tr>\n",
              "    <tr>\n",
              "      <th>3</th>\n",
              "      <td>India</td>\n",
              "      <td>2018</td>\n",
              "      <td>9.454167</td>\n",
              "    </tr>\n",
              "    <tr>\n",
              "      <th>4</th>\n",
              "      <td>India</td>\n",
              "      <td>2019</td>\n",
              "      <td>9.466250</td>\n",
              "    </tr>\n",
              "    <tr>\n",
              "      <th>5</th>\n",
              "      <td>India</td>\n",
              "      <td>2020</td>\n",
              "      <td>9.150000</td>\n",
              "    </tr>\n",
              "    <tr>\n",
              "      <th>6</th>\n",
              "      <td>India</td>\n",
              "      <td>2021</td>\n",
              "      <td>8.698333</td>\n",
              "    </tr>\n",
              "    <tr>\n",
              "      <th>7</th>\n",
              "      <td>India</td>\n",
              "      <td>2022</td>\n",
              "      <td>8.567143</td>\n",
              "    </tr>\n",
              "    <tr>\n",
              "      <th>8</th>\n",
              "      <td>India</td>\n",
              "      <td>2023</td>\n",
              "      <td>9.315632</td>\n",
              "    </tr>\n",
              "    <tr>\n",
              "      <th>9</th>\n",
              "      <td>India</td>\n",
              "      <td>2024</td>\n",
              "      <td>9.315632</td>\n",
              "    </tr>\n",
              "    <tr>\n",
              "      <th>10</th>\n",
              "      <td>USA</td>\n",
              "      <td>2015</td>\n",
              "      <td>3.260000</td>\n",
              "    </tr>\n",
              "    <tr>\n",
              "      <th>11</th>\n",
              "      <td>USA</td>\n",
              "      <td>2016</td>\n",
              "      <td>3.511667</td>\n",
              "    </tr>\n",
              "    <tr>\n",
              "      <th>12</th>\n",
              "      <td>USA</td>\n",
              "      <td>2017</td>\n",
              "      <td>4.096667</td>\n",
              "    </tr>\n",
              "    <tr>\n",
              "      <th>13</th>\n",
              "      <td>USA</td>\n",
              "      <td>2018</td>\n",
              "      <td>4.904167</td>\n",
              "    </tr>\n",
              "    <tr>\n",
              "      <th>14</th>\n",
              "      <td>USA</td>\n",
              "      <td>2019</td>\n",
              "      <td>5.282500</td>\n",
              "    </tr>\n",
              "    <tr>\n",
              "      <th>15</th>\n",
              "      <td>USA</td>\n",
              "      <td>2020</td>\n",
              "      <td>3.544167</td>\n",
              "    </tr>\n",
              "    <tr>\n",
              "      <th>16</th>\n",
              "      <td>USA</td>\n",
              "      <td>2021</td>\n",
              "      <td>3.250000</td>\n",
              "    </tr>\n",
              "    <tr>\n",
              "      <th>17</th>\n",
              "      <td>USA</td>\n",
              "      <td>2022</td>\n",
              "      <td>3.978452</td>\n",
              "    </tr>\n",
              "    <tr>\n",
              "      <th>18</th>\n",
              "      <td>USA</td>\n",
              "      <td>2023</td>\n",
              "      <td>3.978452</td>\n",
              "    </tr>\n",
              "    <tr>\n",
              "      <th>19</th>\n",
              "      <td>USA</td>\n",
              "      <td>2024</td>\n",
              "      <td>3.978452</td>\n",
              "    </tr>\n",
              "    <tr>\n",
              "      <th>20</th>\n",
              "      <td>PAK</td>\n",
              "      <td>2015</td>\n",
              "      <td>10.155833</td>\n",
              "    </tr>\n",
              "    <tr>\n",
              "      <th>21</th>\n",
              "      <td>PAK</td>\n",
              "      <td>2016</td>\n",
              "      <td>8.755000</td>\n",
              "    </tr>\n",
              "    <tr>\n",
              "      <th>22</th>\n",
              "      <td>PAK</td>\n",
              "      <td>2017</td>\n",
              "      <td>8.210000</td>\n",
              "    </tr>\n",
              "    <tr>\n",
              "      <th>23</th>\n",
              "      <td>PAK</td>\n",
              "      <td>2018</td>\n",
              "      <td>8.530833</td>\n",
              "    </tr>\n",
              "    <tr>\n",
              "      <th>24</th>\n",
              "      <td>PAK</td>\n",
              "      <td>2019</td>\n",
              "      <td>12.233055</td>\n",
              "    </tr>\n",
              "    <tr>\n",
              "      <th>25</th>\n",
              "      <td>PAK</td>\n",
              "      <td>2020</td>\n",
              "      <td>10.757749</td>\n",
              "    </tr>\n",
              "    <tr>\n",
              "      <th>26</th>\n",
              "      <td>PAK</td>\n",
              "      <td>2021</td>\n",
              "      <td>8.665974</td>\n",
              "    </tr>\n",
              "    <tr>\n",
              "      <th>27</th>\n",
              "      <td>PAK</td>\n",
              "      <td>2022</td>\n",
              "      <td>9.615492</td>\n",
              "    </tr>\n",
              "    <tr>\n",
              "      <th>28</th>\n",
              "      <td>PAK</td>\n",
              "      <td>2023</td>\n",
              "      <td>9.615492</td>\n",
              "    </tr>\n",
              "    <tr>\n",
              "      <th>29</th>\n",
              "      <td>PAK</td>\n",
              "      <td>2024</td>\n",
              "      <td>9.615492</td>\n",
              "    </tr>\n",
              "  </tbody>\n",
              "</table>\n",
              "</div>\n",
              "    <div class=\"colab-df-buttons\">\n",
              "\n",
              "  <div class=\"colab-df-container\">\n",
              "    <button class=\"colab-df-convert\" onclick=\"convertToInteractive('df-513b09ca-d93f-41a5-9214-ab276a9e8a0d')\"\n",
              "            title=\"Convert this dataframe to an interactive table.\"\n",
              "            style=\"display:none;\">\n",
              "\n",
              "  <svg xmlns=\"http://www.w3.org/2000/svg\" height=\"24px\" viewBox=\"0 -960 960 960\">\n",
              "    <path d=\"M120-120v-720h720v720H120Zm60-500h600v-160H180v160Zm220 220h160v-160H400v160Zm0 220h160v-160H400v160ZM180-400h160v-160H180v160Zm440 0h160v-160H620v160ZM180-180h160v-160H180v160Zm440 0h160v-160H620v160Z\"/>\n",
              "  </svg>\n",
              "    </button>\n",
              "\n",
              "  <style>\n",
              "    .colab-df-container {\n",
              "      display:flex;\n",
              "      gap: 12px;\n",
              "    }\n",
              "\n",
              "    .colab-df-convert {\n",
              "      background-color: #E8F0FE;\n",
              "      border: none;\n",
              "      border-radius: 50%;\n",
              "      cursor: pointer;\n",
              "      display: none;\n",
              "      fill: #1967D2;\n",
              "      height: 32px;\n",
              "      padding: 0 0 0 0;\n",
              "      width: 32px;\n",
              "    }\n",
              "\n",
              "    .colab-df-convert:hover {\n",
              "      background-color: #E2EBFA;\n",
              "      box-shadow: 0px 1px 2px rgba(60, 64, 67, 0.3), 0px 1px 3px 1px rgba(60, 64, 67, 0.15);\n",
              "      fill: #174EA6;\n",
              "    }\n",
              "\n",
              "    .colab-df-buttons div {\n",
              "      margin-bottom: 4px;\n",
              "    }\n",
              "\n",
              "    [theme=dark] .colab-df-convert {\n",
              "      background-color: #3B4455;\n",
              "      fill: #D2E3FC;\n",
              "    }\n",
              "\n",
              "    [theme=dark] .colab-df-convert:hover {\n",
              "      background-color: #434B5C;\n",
              "      box-shadow: 0px 1px 3px 1px rgba(0, 0, 0, 0.15);\n",
              "      filter: drop-shadow(0px 1px 2px rgba(0, 0, 0, 0.3));\n",
              "      fill: #FFFFFF;\n",
              "    }\n",
              "  </style>\n",
              "\n",
              "    <script>\n",
              "      const buttonEl =\n",
              "        document.querySelector('#df-513b09ca-d93f-41a5-9214-ab276a9e8a0d button.colab-df-convert');\n",
              "      buttonEl.style.display =\n",
              "        google.colab.kernel.accessAllowed ? 'block' : 'none';\n",
              "\n",
              "      async function convertToInteractive(key) {\n",
              "        const element = document.querySelector('#df-513b09ca-d93f-41a5-9214-ab276a9e8a0d');\n",
              "        const dataTable =\n",
              "          await google.colab.kernel.invokeFunction('convertToInteractive',\n",
              "                                                    [key], {});\n",
              "        if (!dataTable) return;\n",
              "\n",
              "        const docLinkHtml = 'Like what you see? Visit the ' +\n",
              "          '<a target=\"_blank\" href=https://colab.research.google.com/notebooks/data_table.ipynb>data table notebook</a>'\n",
              "          + ' to learn more about interactive tables.';\n",
              "        element.innerHTML = '';\n",
              "        dataTable['output_type'] = 'display_data';\n",
              "        await google.colab.output.renderOutput(dataTable, element);\n",
              "        const docLink = document.createElement('div');\n",
              "        docLink.innerHTML = docLinkHtml;\n",
              "        element.appendChild(docLink);\n",
              "      }\n",
              "    </script>\n",
              "  </div>\n",
              "\n",
              "\n",
              "    <div id=\"df-59abfc08-b5c9-4b60-9fd1-771f70aa3b81\">\n",
              "      <button class=\"colab-df-quickchart\" onclick=\"quickchart('df-59abfc08-b5c9-4b60-9fd1-771f70aa3b81')\"\n",
              "                title=\"Suggest charts\"\n",
              "                style=\"display:none;\">\n",
              "\n",
              "<svg xmlns=\"http://www.w3.org/2000/svg\" height=\"24px\"viewBox=\"0 0 24 24\"\n",
              "     width=\"24px\">\n",
              "    <g>\n",
              "        <path d=\"M19 3H5c-1.1 0-2 .9-2 2v14c0 1.1.9 2 2 2h14c1.1 0 2-.9 2-2V5c0-1.1-.9-2-2-2zM9 17H7v-7h2v7zm4 0h-2V7h2v10zm4 0h-2v-4h2v4z\"/>\n",
              "    </g>\n",
              "</svg>\n",
              "      </button>\n",
              "\n",
              "<style>\n",
              "  .colab-df-quickchart {\n",
              "      --bg-color: #E8F0FE;\n",
              "      --fill-color: #1967D2;\n",
              "      --hover-bg-color: #E2EBFA;\n",
              "      --hover-fill-color: #174EA6;\n",
              "      --disabled-fill-color: #AAA;\n",
              "      --disabled-bg-color: #DDD;\n",
              "  }\n",
              "\n",
              "  [theme=dark] .colab-df-quickchart {\n",
              "      --bg-color: #3B4455;\n",
              "      --fill-color: #D2E3FC;\n",
              "      --hover-bg-color: #434B5C;\n",
              "      --hover-fill-color: #FFFFFF;\n",
              "      --disabled-bg-color: #3B4455;\n",
              "      --disabled-fill-color: #666;\n",
              "  }\n",
              "\n",
              "  .colab-df-quickchart {\n",
              "    background-color: var(--bg-color);\n",
              "    border: none;\n",
              "    border-radius: 50%;\n",
              "    cursor: pointer;\n",
              "    display: none;\n",
              "    fill: var(--fill-color);\n",
              "    height: 32px;\n",
              "    padding: 0;\n",
              "    width: 32px;\n",
              "  }\n",
              "\n",
              "  .colab-df-quickchart:hover {\n",
              "    background-color: var(--hover-bg-color);\n",
              "    box-shadow: 0 1px 2px rgba(60, 64, 67, 0.3), 0 1px 3px 1px rgba(60, 64, 67, 0.15);\n",
              "    fill: var(--button-hover-fill-color);\n",
              "  }\n",
              "\n",
              "  .colab-df-quickchart-complete:disabled,\n",
              "  .colab-df-quickchart-complete:disabled:hover {\n",
              "    background-color: var(--disabled-bg-color);\n",
              "    fill: var(--disabled-fill-color);\n",
              "    box-shadow: none;\n",
              "  }\n",
              "\n",
              "  .colab-df-spinner {\n",
              "    border: 2px solid var(--fill-color);\n",
              "    border-color: transparent;\n",
              "    border-bottom-color: var(--fill-color);\n",
              "    animation:\n",
              "      spin 1s steps(1) infinite;\n",
              "  }\n",
              "\n",
              "  @keyframes spin {\n",
              "    0% {\n",
              "      border-color: transparent;\n",
              "      border-bottom-color: var(--fill-color);\n",
              "      border-left-color: var(--fill-color);\n",
              "    }\n",
              "    20% {\n",
              "      border-color: transparent;\n",
              "      border-left-color: var(--fill-color);\n",
              "      border-top-color: var(--fill-color);\n",
              "    }\n",
              "    30% {\n",
              "      border-color: transparent;\n",
              "      border-left-color: var(--fill-color);\n",
              "      border-top-color: var(--fill-color);\n",
              "      border-right-color: var(--fill-color);\n",
              "    }\n",
              "    40% {\n",
              "      border-color: transparent;\n",
              "      border-right-color: var(--fill-color);\n",
              "      border-top-color: var(--fill-color);\n",
              "    }\n",
              "    60% {\n",
              "      border-color: transparent;\n",
              "      border-right-color: var(--fill-color);\n",
              "    }\n",
              "    80% {\n",
              "      border-color: transparent;\n",
              "      border-right-color: var(--fill-color);\n",
              "      border-bottom-color: var(--fill-color);\n",
              "    }\n",
              "    90% {\n",
              "      border-color: transparent;\n",
              "      border-bottom-color: var(--fill-color);\n",
              "    }\n",
              "  }\n",
              "</style>\n",
              "\n",
              "      <script>\n",
              "        async function quickchart(key) {\n",
              "          const quickchartButtonEl =\n",
              "            document.querySelector('#' + key + ' button');\n",
              "          quickchartButtonEl.disabled = true;  // To prevent multiple clicks.\n",
              "          quickchartButtonEl.classList.add('colab-df-spinner');\n",
              "          try {\n",
              "            const charts = await google.colab.kernel.invokeFunction(\n",
              "                'suggestCharts', [key], {});\n",
              "          } catch (error) {\n",
              "            console.error('Error during call to suggestCharts:', error);\n",
              "          }\n",
              "          quickchartButtonEl.classList.remove('colab-df-spinner');\n",
              "          quickchartButtonEl.classList.add('colab-df-quickchart-complete');\n",
              "        }\n",
              "        (() => {\n",
              "          let quickchartButtonEl =\n",
              "            document.querySelector('#df-59abfc08-b5c9-4b60-9fd1-771f70aa3b81 button');\n",
              "          quickchartButtonEl.style.display =\n",
              "            google.colab.kernel.accessAllowed ? 'block' : 'none';\n",
              "        })();\n",
              "      </script>\n",
              "    </div>\n",
              "\n",
              "    </div>\n",
              "  </div>\n"
            ],
            "application/vnd.google.colaboratory.intrinsic+json": {
              "type": "dataframe",
              "summary": "{\n  \"name\": \"df[['Country_Name', 'Years', 'Interest_rate (%)']]\",\n  \"rows\": 30,\n  \"fields\": [\n    {\n      \"column\": \"Country_Name\",\n      \"properties\": {\n        \"dtype\": \"category\",\n        \"num_unique_values\": 3,\n        \"samples\": [\n          \"India\",\n          \"USA\",\n          \"PAK\"\n        ],\n        \"semantic_type\": \"\",\n        \"description\": \"\"\n      }\n    },\n    {\n      \"column\": \"Years\",\n      \"properties\": {\n        \"dtype\": \"number\",\n        \"std\": 2,\n        \"min\": 2015,\n        \"max\": 2024,\n        \"num_unique_values\": 10,\n        \"samples\": [\n          2023,\n          2016,\n          2020\n        ],\n        \"semantic_type\": \"\",\n        \"description\": \"\"\n      }\n    },\n    {\n      \"column\": \"Interest_rate (%)\",\n      \"properties\": {\n        \"dtype\": \"number\",\n        \"std\": 2.7548957036342214,\n        \"min\": 3.25,\n        \"max\": 12.2330548,\n        \"num_unique_values\": 25,\n        \"samples\": [\n          9.31563244,\n          3.978452381142857,\n          10.00833333\n        ],\n        \"semantic_type\": \"\",\n        \"description\": \"\"\n      }\n    }\n  ]\n}"
            }
          },
          "metadata": {},
          "execution_count": 14
        }
      ]
    },
    {
      "cell_type": "markdown",
      "source": [
        "To see the actual duplicate rows:"
      ],
      "metadata": {
        "id": "ijfT5F_uun0t"
      }
    },
    {
      "cell_type": "markdown",
      "source": [
        "✅ To calculate summary statistics only for three variables:\n",
        "CPI_(%)\n",
        "Interest_rate (%)\n",
        "LNGDP_(%)\n",
        "➤ Use this clean version:"
      ],
      "metadata": {
        "id": "2KnjTL0i1vrK"
      }
    },
    {
      "cell_type": "code",
      "source": [
        "df[['CPI_(%)', 'Interest_rate (%)', 'LNGDP_(%)']].describe()\n"
      ],
      "metadata": {
        "colab": {
          "base_uri": "https://localhost:8080/",
          "height": 300
        },
        "id": "LLoCp4w_1ssZ",
        "outputId": "88e524d1-b166-422f-ed24-705c0ca41914"
      },
      "execution_count": 15,
      "outputs": [
        {
          "output_type": "execute_result",
          "data": {
            "text/plain": [
              "         CPI_(%)  Interest_rate (%)  LNGDP_(%)\n",
              "count  30.000000          30.000000  30.000000\n",
              "mean    6.240665           7.636526  28.622529\n",
              "std     6.108532           2.754896   1.675609\n",
              "min     0.118627           3.250000  26.427048\n",
              "25%     3.044187           4.298542  26.714730\n",
              "50%     4.802416           8.726667  28.601621\n",
              "75%     6.680135           9.588702  30.574078\n",
              "max    30.768128          12.233055  30.753386"
            ],
            "text/html": [
              "\n",
              "  <div id=\"df-a9101603-85d9-46e9-919f-7be78ee07b1f\" class=\"colab-df-container\">\n",
              "    <div>\n",
              "<style scoped>\n",
              "    .dataframe tbody tr th:only-of-type {\n",
              "        vertical-align: middle;\n",
              "    }\n",
              "\n",
              "    .dataframe tbody tr th {\n",
              "        vertical-align: top;\n",
              "    }\n",
              "\n",
              "    .dataframe thead th {\n",
              "        text-align: right;\n",
              "    }\n",
              "</style>\n",
              "<table border=\"1\" class=\"dataframe\">\n",
              "  <thead>\n",
              "    <tr style=\"text-align: right;\">\n",
              "      <th></th>\n",
              "      <th>CPI_(%)</th>\n",
              "      <th>Interest_rate (%)</th>\n",
              "      <th>LNGDP_(%)</th>\n",
              "    </tr>\n",
              "  </thead>\n",
              "  <tbody>\n",
              "    <tr>\n",
              "      <th>count</th>\n",
              "      <td>30.000000</td>\n",
              "      <td>30.000000</td>\n",
              "      <td>30.000000</td>\n",
              "    </tr>\n",
              "    <tr>\n",
              "      <th>mean</th>\n",
              "      <td>6.240665</td>\n",
              "      <td>7.636526</td>\n",
              "      <td>28.622529</td>\n",
              "    </tr>\n",
              "    <tr>\n",
              "      <th>std</th>\n",
              "      <td>6.108532</td>\n",
              "      <td>2.754896</td>\n",
              "      <td>1.675609</td>\n",
              "    </tr>\n",
              "    <tr>\n",
              "      <th>min</th>\n",
              "      <td>0.118627</td>\n",
              "      <td>3.250000</td>\n",
              "      <td>26.427048</td>\n",
              "    </tr>\n",
              "    <tr>\n",
              "      <th>25%</th>\n",
              "      <td>3.044187</td>\n",
              "      <td>4.298542</td>\n",
              "      <td>26.714730</td>\n",
              "    </tr>\n",
              "    <tr>\n",
              "      <th>50%</th>\n",
              "      <td>4.802416</td>\n",
              "      <td>8.726667</td>\n",
              "      <td>28.601621</td>\n",
              "    </tr>\n",
              "    <tr>\n",
              "      <th>75%</th>\n",
              "      <td>6.680135</td>\n",
              "      <td>9.588702</td>\n",
              "      <td>30.574078</td>\n",
              "    </tr>\n",
              "    <tr>\n",
              "      <th>max</th>\n",
              "      <td>30.768128</td>\n",
              "      <td>12.233055</td>\n",
              "      <td>30.753386</td>\n",
              "    </tr>\n",
              "  </tbody>\n",
              "</table>\n",
              "</div>\n",
              "    <div class=\"colab-df-buttons\">\n",
              "\n",
              "  <div class=\"colab-df-container\">\n",
              "    <button class=\"colab-df-convert\" onclick=\"convertToInteractive('df-a9101603-85d9-46e9-919f-7be78ee07b1f')\"\n",
              "            title=\"Convert this dataframe to an interactive table.\"\n",
              "            style=\"display:none;\">\n",
              "\n",
              "  <svg xmlns=\"http://www.w3.org/2000/svg\" height=\"24px\" viewBox=\"0 -960 960 960\">\n",
              "    <path d=\"M120-120v-720h720v720H120Zm60-500h600v-160H180v160Zm220 220h160v-160H400v160Zm0 220h160v-160H400v160ZM180-400h160v-160H180v160Zm440 0h160v-160H620v160ZM180-180h160v-160H180v160Zm440 0h160v-160H620v160Z\"/>\n",
              "  </svg>\n",
              "    </button>\n",
              "\n",
              "  <style>\n",
              "    .colab-df-container {\n",
              "      display:flex;\n",
              "      gap: 12px;\n",
              "    }\n",
              "\n",
              "    .colab-df-convert {\n",
              "      background-color: #E8F0FE;\n",
              "      border: none;\n",
              "      border-radius: 50%;\n",
              "      cursor: pointer;\n",
              "      display: none;\n",
              "      fill: #1967D2;\n",
              "      height: 32px;\n",
              "      padding: 0 0 0 0;\n",
              "      width: 32px;\n",
              "    }\n",
              "\n",
              "    .colab-df-convert:hover {\n",
              "      background-color: #E2EBFA;\n",
              "      box-shadow: 0px 1px 2px rgba(60, 64, 67, 0.3), 0px 1px 3px 1px rgba(60, 64, 67, 0.15);\n",
              "      fill: #174EA6;\n",
              "    }\n",
              "\n",
              "    .colab-df-buttons div {\n",
              "      margin-bottom: 4px;\n",
              "    }\n",
              "\n",
              "    [theme=dark] .colab-df-convert {\n",
              "      background-color: #3B4455;\n",
              "      fill: #D2E3FC;\n",
              "    }\n",
              "\n",
              "    [theme=dark] .colab-df-convert:hover {\n",
              "      background-color: #434B5C;\n",
              "      box-shadow: 0px 1px 3px 1px rgba(0, 0, 0, 0.15);\n",
              "      filter: drop-shadow(0px 1px 2px rgba(0, 0, 0, 0.3));\n",
              "      fill: #FFFFFF;\n",
              "    }\n",
              "  </style>\n",
              "\n",
              "    <script>\n",
              "      const buttonEl =\n",
              "        document.querySelector('#df-a9101603-85d9-46e9-919f-7be78ee07b1f button.colab-df-convert');\n",
              "      buttonEl.style.display =\n",
              "        google.colab.kernel.accessAllowed ? 'block' : 'none';\n",
              "\n",
              "      async function convertToInteractive(key) {\n",
              "        const element = document.querySelector('#df-a9101603-85d9-46e9-919f-7be78ee07b1f');\n",
              "        const dataTable =\n",
              "          await google.colab.kernel.invokeFunction('convertToInteractive',\n",
              "                                                    [key], {});\n",
              "        if (!dataTable) return;\n",
              "\n",
              "        const docLinkHtml = 'Like what you see? Visit the ' +\n",
              "          '<a target=\"_blank\" href=https://colab.research.google.com/notebooks/data_table.ipynb>data table notebook</a>'\n",
              "          + ' to learn more about interactive tables.';\n",
              "        element.innerHTML = '';\n",
              "        dataTable['output_type'] = 'display_data';\n",
              "        await google.colab.output.renderOutput(dataTable, element);\n",
              "        const docLink = document.createElement('div');\n",
              "        docLink.innerHTML = docLinkHtml;\n",
              "        element.appendChild(docLink);\n",
              "      }\n",
              "    </script>\n",
              "  </div>\n",
              "\n",
              "\n",
              "    <div id=\"df-1375914a-0367-4fb3-b61f-1b45ed023493\">\n",
              "      <button class=\"colab-df-quickchart\" onclick=\"quickchart('df-1375914a-0367-4fb3-b61f-1b45ed023493')\"\n",
              "                title=\"Suggest charts\"\n",
              "                style=\"display:none;\">\n",
              "\n",
              "<svg xmlns=\"http://www.w3.org/2000/svg\" height=\"24px\"viewBox=\"0 0 24 24\"\n",
              "     width=\"24px\">\n",
              "    <g>\n",
              "        <path d=\"M19 3H5c-1.1 0-2 .9-2 2v14c0 1.1.9 2 2 2h14c1.1 0 2-.9 2-2V5c0-1.1-.9-2-2-2zM9 17H7v-7h2v7zm4 0h-2V7h2v10zm4 0h-2v-4h2v4z\"/>\n",
              "    </g>\n",
              "</svg>\n",
              "      </button>\n",
              "\n",
              "<style>\n",
              "  .colab-df-quickchart {\n",
              "      --bg-color: #E8F0FE;\n",
              "      --fill-color: #1967D2;\n",
              "      --hover-bg-color: #E2EBFA;\n",
              "      --hover-fill-color: #174EA6;\n",
              "      --disabled-fill-color: #AAA;\n",
              "      --disabled-bg-color: #DDD;\n",
              "  }\n",
              "\n",
              "  [theme=dark] .colab-df-quickchart {\n",
              "      --bg-color: #3B4455;\n",
              "      --fill-color: #D2E3FC;\n",
              "      --hover-bg-color: #434B5C;\n",
              "      --hover-fill-color: #FFFFFF;\n",
              "      --disabled-bg-color: #3B4455;\n",
              "      --disabled-fill-color: #666;\n",
              "  }\n",
              "\n",
              "  .colab-df-quickchart {\n",
              "    background-color: var(--bg-color);\n",
              "    border: none;\n",
              "    border-radius: 50%;\n",
              "    cursor: pointer;\n",
              "    display: none;\n",
              "    fill: var(--fill-color);\n",
              "    height: 32px;\n",
              "    padding: 0;\n",
              "    width: 32px;\n",
              "  }\n",
              "\n",
              "  .colab-df-quickchart:hover {\n",
              "    background-color: var(--hover-bg-color);\n",
              "    box-shadow: 0 1px 2px rgba(60, 64, 67, 0.3), 0 1px 3px 1px rgba(60, 64, 67, 0.15);\n",
              "    fill: var(--button-hover-fill-color);\n",
              "  }\n",
              "\n",
              "  .colab-df-quickchart-complete:disabled,\n",
              "  .colab-df-quickchart-complete:disabled:hover {\n",
              "    background-color: var(--disabled-bg-color);\n",
              "    fill: var(--disabled-fill-color);\n",
              "    box-shadow: none;\n",
              "  }\n",
              "\n",
              "  .colab-df-spinner {\n",
              "    border: 2px solid var(--fill-color);\n",
              "    border-color: transparent;\n",
              "    border-bottom-color: var(--fill-color);\n",
              "    animation:\n",
              "      spin 1s steps(1) infinite;\n",
              "  }\n",
              "\n",
              "  @keyframes spin {\n",
              "    0% {\n",
              "      border-color: transparent;\n",
              "      border-bottom-color: var(--fill-color);\n",
              "      border-left-color: var(--fill-color);\n",
              "    }\n",
              "    20% {\n",
              "      border-color: transparent;\n",
              "      border-left-color: var(--fill-color);\n",
              "      border-top-color: var(--fill-color);\n",
              "    }\n",
              "    30% {\n",
              "      border-color: transparent;\n",
              "      border-left-color: var(--fill-color);\n",
              "      border-top-color: var(--fill-color);\n",
              "      border-right-color: var(--fill-color);\n",
              "    }\n",
              "    40% {\n",
              "      border-color: transparent;\n",
              "      border-right-color: var(--fill-color);\n",
              "      border-top-color: var(--fill-color);\n",
              "    }\n",
              "    60% {\n",
              "      border-color: transparent;\n",
              "      border-right-color: var(--fill-color);\n",
              "    }\n",
              "    80% {\n",
              "      border-color: transparent;\n",
              "      border-right-color: var(--fill-color);\n",
              "      border-bottom-color: var(--fill-color);\n",
              "    }\n",
              "    90% {\n",
              "      border-color: transparent;\n",
              "      border-bottom-color: var(--fill-color);\n",
              "    }\n",
              "  }\n",
              "</style>\n",
              "\n",
              "      <script>\n",
              "        async function quickchart(key) {\n",
              "          const quickchartButtonEl =\n",
              "            document.querySelector('#' + key + ' button');\n",
              "          quickchartButtonEl.disabled = true;  // To prevent multiple clicks.\n",
              "          quickchartButtonEl.classList.add('colab-df-spinner');\n",
              "          try {\n",
              "            const charts = await google.colab.kernel.invokeFunction(\n",
              "                'suggestCharts', [key], {});\n",
              "          } catch (error) {\n",
              "            console.error('Error during call to suggestCharts:', error);\n",
              "          }\n",
              "          quickchartButtonEl.classList.remove('colab-df-spinner');\n",
              "          quickchartButtonEl.classList.add('colab-df-quickchart-complete');\n",
              "        }\n",
              "        (() => {\n",
              "          let quickchartButtonEl =\n",
              "            document.querySelector('#df-1375914a-0367-4fb3-b61f-1b45ed023493 button');\n",
              "          quickchartButtonEl.style.display =\n",
              "            google.colab.kernel.accessAllowed ? 'block' : 'none';\n",
              "        })();\n",
              "      </script>\n",
              "    </div>\n",
              "\n",
              "    </div>\n",
              "  </div>\n"
            ],
            "application/vnd.google.colaboratory.intrinsic+json": {
              "type": "dataframe",
              "summary": "{\n  \"name\": \"df[['CPI_(%)', 'Interest_rate (%)', 'LNGDP_(%)']]\",\n  \"rows\": 8,\n  \"fields\": [\n    {\n      \"column\": \"CPI_(%)\",\n      \"properties\": {\n        \"dtype\": \"number\",\n        \"std\": 12.17209978678789,\n        \"min\": 0.118627136,\n        \"max\": 30.76812807,\n        \"num_unique_values\": 8,\n        \"samples\": [\n          6.240664549699999,\n          4.802416152499999,\n          30.0\n        ],\n        \"semantic_type\": \"\",\n        \"description\": \"\"\n      }\n    },\n    {\n      \"column\": \"Interest_rate (%)\",\n      \"properties\": {\n        \"dtype\": \"number\",\n        \"std\": 8.804529108718407,\n        \"min\": 2.7548957036342214,\n        \"max\": 30.0,\n        \"num_unique_values\": 8,\n        \"samples\": [\n          7.636525659809523,\n          8.726666666500002,\n          30.0\n        ],\n        \"semantic_type\": \"\",\n        \"description\": \"\"\n      }\n    },\n    {\n      \"column\": \"LNGDP_(%)\",\n      \"properties\": {\n        \"dtype\": \"number\",\n        \"std\": 9.731035773692147,\n        \"min\": 1.675608828281526,\n        \"max\": 30.75338604,\n        \"num_unique_values\": 8,\n        \"samples\": [\n          28.622528901333332,\n          28.60162065,\n          30.0\n        ],\n        \"semantic_type\": \"\",\n        \"description\": \"\"\n      }\n    }\n  ]\n}"
            }
          },
          "metadata": {},
          "execution_count": 15
        }
      ]
    },
    {
      "cell_type": "code",
      "source": [
        "df[df.duplicated()]"
      ],
      "metadata": {
        "colab": {
          "base_uri": "https://localhost:8080/",
          "height": 53
        },
        "id": "ALyE32QYukm4",
        "outputId": "1f3f2129-824b-4e25-d353-a7dea3b4129b"
      },
      "execution_count": 16,
      "outputs": [
        {
          "output_type": "execute_result",
          "data": {
            "text/plain": [
              "Empty DataFrame\n",
              "Columns: [Country_Name, C_Id, Years, CPI_(%), Interest_rate (%), LNGDP_(%)]\n",
              "Index: []"
            ],
            "text/html": [
              "\n",
              "  <div id=\"df-86859a53-6559-44f2-b83a-84c8dfd615f0\" class=\"colab-df-container\">\n",
              "    <div>\n",
              "<style scoped>\n",
              "    .dataframe tbody tr th:only-of-type {\n",
              "        vertical-align: middle;\n",
              "    }\n",
              "\n",
              "    .dataframe tbody tr th {\n",
              "        vertical-align: top;\n",
              "    }\n",
              "\n",
              "    .dataframe thead th {\n",
              "        text-align: right;\n",
              "    }\n",
              "</style>\n",
              "<table border=\"1\" class=\"dataframe\">\n",
              "  <thead>\n",
              "    <tr style=\"text-align: right;\">\n",
              "      <th></th>\n",
              "      <th>Country_Name</th>\n",
              "      <th>C_Id</th>\n",
              "      <th>Years</th>\n",
              "      <th>CPI_(%)</th>\n",
              "      <th>Interest_rate (%)</th>\n",
              "      <th>LNGDP_(%)</th>\n",
              "    </tr>\n",
              "  </thead>\n",
              "  <tbody>\n",
              "  </tbody>\n",
              "</table>\n",
              "</div>\n",
              "    <div class=\"colab-df-buttons\">\n",
              "\n",
              "  <div class=\"colab-df-container\">\n",
              "    <button class=\"colab-df-convert\" onclick=\"convertToInteractive('df-86859a53-6559-44f2-b83a-84c8dfd615f0')\"\n",
              "            title=\"Convert this dataframe to an interactive table.\"\n",
              "            style=\"display:none;\">\n",
              "\n",
              "  <svg xmlns=\"http://www.w3.org/2000/svg\" height=\"24px\" viewBox=\"0 -960 960 960\">\n",
              "    <path d=\"M120-120v-720h720v720H120Zm60-500h600v-160H180v160Zm220 220h160v-160H400v160Zm0 220h160v-160H400v160ZM180-400h160v-160H180v160Zm440 0h160v-160H620v160ZM180-180h160v-160H180v160Zm440 0h160v-160H620v160Z\"/>\n",
              "  </svg>\n",
              "    </button>\n",
              "\n",
              "  <style>\n",
              "    .colab-df-container {\n",
              "      display:flex;\n",
              "      gap: 12px;\n",
              "    }\n",
              "\n",
              "    .colab-df-convert {\n",
              "      background-color: #E8F0FE;\n",
              "      border: none;\n",
              "      border-radius: 50%;\n",
              "      cursor: pointer;\n",
              "      display: none;\n",
              "      fill: #1967D2;\n",
              "      height: 32px;\n",
              "      padding: 0 0 0 0;\n",
              "      width: 32px;\n",
              "    }\n",
              "\n",
              "    .colab-df-convert:hover {\n",
              "      background-color: #E2EBFA;\n",
              "      box-shadow: 0px 1px 2px rgba(60, 64, 67, 0.3), 0px 1px 3px 1px rgba(60, 64, 67, 0.15);\n",
              "      fill: #174EA6;\n",
              "    }\n",
              "\n",
              "    .colab-df-buttons div {\n",
              "      margin-bottom: 4px;\n",
              "    }\n",
              "\n",
              "    [theme=dark] .colab-df-convert {\n",
              "      background-color: #3B4455;\n",
              "      fill: #D2E3FC;\n",
              "    }\n",
              "\n",
              "    [theme=dark] .colab-df-convert:hover {\n",
              "      background-color: #434B5C;\n",
              "      box-shadow: 0px 1px 3px 1px rgba(0, 0, 0, 0.15);\n",
              "      filter: drop-shadow(0px 1px 2px rgba(0, 0, 0, 0.3));\n",
              "      fill: #FFFFFF;\n",
              "    }\n",
              "  </style>\n",
              "\n",
              "    <script>\n",
              "      const buttonEl =\n",
              "        document.querySelector('#df-86859a53-6559-44f2-b83a-84c8dfd615f0 button.colab-df-convert');\n",
              "      buttonEl.style.display =\n",
              "        google.colab.kernel.accessAllowed ? 'block' : 'none';\n",
              "\n",
              "      async function convertToInteractive(key) {\n",
              "        const element = document.querySelector('#df-86859a53-6559-44f2-b83a-84c8dfd615f0');\n",
              "        const dataTable =\n",
              "          await google.colab.kernel.invokeFunction('convertToInteractive',\n",
              "                                                    [key], {});\n",
              "        if (!dataTable) return;\n",
              "\n",
              "        const docLinkHtml = 'Like what you see? Visit the ' +\n",
              "          '<a target=\"_blank\" href=https://colab.research.google.com/notebooks/data_table.ipynb>data table notebook</a>'\n",
              "          + ' to learn more about interactive tables.';\n",
              "        element.innerHTML = '';\n",
              "        dataTable['output_type'] = 'display_data';\n",
              "        await google.colab.output.renderOutput(dataTable, element);\n",
              "        const docLink = document.createElement('div');\n",
              "        docLink.innerHTML = docLinkHtml;\n",
              "        element.appendChild(docLink);\n",
              "      }\n",
              "    </script>\n",
              "  </div>\n",
              "\n",
              "\n",
              "    </div>\n",
              "  </div>\n"
            ],
            "application/vnd.google.colaboratory.intrinsic+json": {
              "type": "dataframe",
              "repr_error": "Out of range float values are not JSON compliant: nan"
            }
          },
          "metadata": {},
          "execution_count": 16
        }
      ]
    },
    {
      "cell_type": "markdown",
      "source": [
        "Optional: Check duplicates based on specific columns (e.g., Country_Name, Years):"
      ],
      "metadata": {
        "id": "ljg5wE2tuziq"
      }
    },
    {
      "cell_type": "code",
      "source": [
        "df.duplicated(subset=['Country_Name', 'Years'])\n"
      ],
      "metadata": {
        "colab": {
          "base_uri": "https://localhost:8080/",
          "height": 1000
        },
        "id": "535rUCu3uska",
        "outputId": "698b9920-87e8-4ba3-eefe-91a0ac18b2d6"
      },
      "execution_count": 17,
      "outputs": [
        {
          "output_type": "execute_result",
          "data": {
            "text/plain": [
              "0     False\n",
              "1     False\n",
              "2     False\n",
              "3     False\n",
              "4     False\n",
              "5     False\n",
              "6     False\n",
              "7     False\n",
              "8     False\n",
              "9     False\n",
              "10    False\n",
              "11    False\n",
              "12    False\n",
              "13    False\n",
              "14    False\n",
              "15    False\n",
              "16    False\n",
              "17    False\n",
              "18    False\n",
              "19    False\n",
              "20    False\n",
              "21    False\n",
              "22    False\n",
              "23    False\n",
              "24    False\n",
              "25    False\n",
              "26    False\n",
              "27    False\n",
              "28    False\n",
              "29    False\n",
              "dtype: bool"
            ],
            "text/html": [
              "<div>\n",
              "<style scoped>\n",
              "    .dataframe tbody tr th:only-of-type {\n",
              "        vertical-align: middle;\n",
              "    }\n",
              "\n",
              "    .dataframe tbody tr th {\n",
              "        vertical-align: top;\n",
              "    }\n",
              "\n",
              "    .dataframe thead th {\n",
              "        text-align: right;\n",
              "    }\n",
              "</style>\n",
              "<table border=\"1\" class=\"dataframe\">\n",
              "  <thead>\n",
              "    <tr style=\"text-align: right;\">\n",
              "      <th></th>\n",
              "      <th>0</th>\n",
              "    </tr>\n",
              "  </thead>\n",
              "  <tbody>\n",
              "    <tr>\n",
              "      <th>0</th>\n",
              "      <td>False</td>\n",
              "    </tr>\n",
              "    <tr>\n",
              "      <th>1</th>\n",
              "      <td>False</td>\n",
              "    </tr>\n",
              "    <tr>\n",
              "      <th>2</th>\n",
              "      <td>False</td>\n",
              "    </tr>\n",
              "    <tr>\n",
              "      <th>3</th>\n",
              "      <td>False</td>\n",
              "    </tr>\n",
              "    <tr>\n",
              "      <th>4</th>\n",
              "      <td>False</td>\n",
              "    </tr>\n",
              "    <tr>\n",
              "      <th>5</th>\n",
              "      <td>False</td>\n",
              "    </tr>\n",
              "    <tr>\n",
              "      <th>6</th>\n",
              "      <td>False</td>\n",
              "    </tr>\n",
              "    <tr>\n",
              "      <th>7</th>\n",
              "      <td>False</td>\n",
              "    </tr>\n",
              "    <tr>\n",
              "      <th>8</th>\n",
              "      <td>False</td>\n",
              "    </tr>\n",
              "    <tr>\n",
              "      <th>9</th>\n",
              "      <td>False</td>\n",
              "    </tr>\n",
              "    <tr>\n",
              "      <th>10</th>\n",
              "      <td>False</td>\n",
              "    </tr>\n",
              "    <tr>\n",
              "      <th>11</th>\n",
              "      <td>False</td>\n",
              "    </tr>\n",
              "    <tr>\n",
              "      <th>12</th>\n",
              "      <td>False</td>\n",
              "    </tr>\n",
              "    <tr>\n",
              "      <th>13</th>\n",
              "      <td>False</td>\n",
              "    </tr>\n",
              "    <tr>\n",
              "      <th>14</th>\n",
              "      <td>False</td>\n",
              "    </tr>\n",
              "    <tr>\n",
              "      <th>15</th>\n",
              "      <td>False</td>\n",
              "    </tr>\n",
              "    <tr>\n",
              "      <th>16</th>\n",
              "      <td>False</td>\n",
              "    </tr>\n",
              "    <tr>\n",
              "      <th>17</th>\n",
              "      <td>False</td>\n",
              "    </tr>\n",
              "    <tr>\n",
              "      <th>18</th>\n",
              "      <td>False</td>\n",
              "    </tr>\n",
              "    <tr>\n",
              "      <th>19</th>\n",
              "      <td>False</td>\n",
              "    </tr>\n",
              "    <tr>\n",
              "      <th>20</th>\n",
              "      <td>False</td>\n",
              "    </tr>\n",
              "    <tr>\n",
              "      <th>21</th>\n",
              "      <td>False</td>\n",
              "    </tr>\n",
              "    <tr>\n",
              "      <th>22</th>\n",
              "      <td>False</td>\n",
              "    </tr>\n",
              "    <tr>\n",
              "      <th>23</th>\n",
              "      <td>False</td>\n",
              "    </tr>\n",
              "    <tr>\n",
              "      <th>24</th>\n",
              "      <td>False</td>\n",
              "    </tr>\n",
              "    <tr>\n",
              "      <th>25</th>\n",
              "      <td>False</td>\n",
              "    </tr>\n",
              "    <tr>\n",
              "      <th>26</th>\n",
              "      <td>False</td>\n",
              "    </tr>\n",
              "    <tr>\n",
              "      <th>27</th>\n",
              "      <td>False</td>\n",
              "    </tr>\n",
              "    <tr>\n",
              "      <th>28</th>\n",
              "      <td>False</td>\n",
              "    </tr>\n",
              "    <tr>\n",
              "      <th>29</th>\n",
              "      <td>False</td>\n",
              "    </tr>\n",
              "  </tbody>\n",
              "</table>\n",
              "</div><br><label><b>dtype:</b> bool</label>"
            ]
          },
          "metadata": {},
          "execution_count": 17
        }
      ]
    },
    {
      "cell_type": "markdown",
      "source": [
        "💡 Purpose:\n",
        "To calculate the average CPI (%) for each country in each year — and store it in a new DataFrame called cpi_avg.\n",
        "\n",
        "🔍 Step-by-step Explanation:\n",
        "Part\tMeaning\n",
        "df.groupby(['Country_Name', 'Years'])\tGroups the dataset by country and year (e.g., India–2015, India–2016, etc.)\n",
        "['CPI_(%)']\tSelects only the CPI column to aggregate\n",
        ".mean()\tCalculates the mean CPI for each group (even if duplicates existed)\n",
        ".reset_index()\tConverts the result from groupby object to a clean DataFrame with proper columns\n",
        "\n",
        "📄 Output Example of cpi_avg:\n",
        "Country_Name\tYears\tCPI_(%)\n",
        "India\t2015\t4.90\n",
        "India\t2016\t4.94\n",
        "...\t...\t...\n",
        "\n",
        "This is helpful for visualizing CPI trends over time.\n",
        "\n",
        "Let me know if you'd like to do the same for Interest Rate or LNGDP!\n",
        "\n",
        "\n",
        "\n",
        "\n",
        "\n",
        "\n",
        "\n",
        "\n",
        "Ask ChatGPT\n",
        "You said:\n",
        "how to check duplicates values\n",
        "\n",
        "\n",
        "ChatGPT said:\n",
        "To check for duplicate rows in your DataFrame, use:\n",
        "\n",
        "✅ One-Line Command:\n",
        "python\n",
        "Copy code\n",
        "df.duplicated().sum()\n",
        "This will return the number of duplicated rows.\n",
        "🔍 To see the actual duplicate rows:\n",
        "python\n",
        "Copy code\n",
        "df[df.duplicated()]\n",
        "💡 Optional: Check duplicates based on specific columns (e.g., Country_Name, Years):\n",
        "python\n",
        "Copy code\n",
        "df.duplicated(subset=['Country_Name', 'Years'])\n",
        "Let me know if you want to remove duplicates too.\n",
        "\n",
        "\n",
        "\n",
        "\n",
        "\n",
        "\n",
        "\n",
        "\n",
        "\n"
      ],
      "metadata": {
        "id": "0Zkigr8Zu_W5"
      }
    },
    {
      "cell_type": "code",
      "source": [
        "cpi_avg=df.groupby(['Country_Name','Years'])['CPI_(%)'].mean().reset_index()"
      ],
      "metadata": {
        "id": "yD5cUgj9u1ZJ"
      },
      "execution_count": 19,
      "outputs": []
    },
    {
      "cell_type": "code",
      "source": [
        "import matplotlib.pyplot as plt\n",
        "import seaborn as sns"
      ],
      "metadata": {
        "id": "xRcbsylZvoIJ"
      },
      "execution_count": 20,
      "outputs": []
    },
    {
      "cell_type": "code",
      "source": [
        "plt.figure(figsize=(10,5))"
      ],
      "metadata": {
        "colab": {
          "base_uri": "https://localhost:8080/",
          "height": 52
        },
        "id": "UcPt0VkjwGSz",
        "outputId": "d04244fe-4e8f-41da-9e8f-58e3c3ed939f"
      },
      "execution_count": 21,
      "outputs": [
        {
          "output_type": "execute_result",
          "data": {
            "text/plain": [
              "<Figure size 1000x500 with 0 Axes>"
            ]
          },
          "metadata": {},
          "execution_count": 21
        },
        {
          "output_type": "display_data",
          "data": {
            "text/plain": [
              "<Figure size 1000x500 with 0 Axes>"
            ]
          },
          "metadata": {}
        }
      ]
    },
    {
      "cell_type": "markdown",
      "source": [
        "Line Plot"
      ],
      "metadata": {
        "id": "Qq5F1EK7xPs4"
      }
    },
    {
      "cell_type": "code",
      "source": [
        "sns.lineplot(data=cpi_avg, x='Years',y='CPI_(%)',hue='Country_Name',markers=\"o\")\n",
        "plt.title('CPI Trend (2015-2024)')\n",
        "plt.grid(True)\n",
        "plt.show()"
      ],
      "metadata": {
        "colab": {
          "base_uri": "https://localhost:8080/",
          "height": 472
        },
        "id": "7ZaurkFzwbTu",
        "outputId": "575f0d7b-3429-4997-c2af-4c819a262165"
      },
      "execution_count": 22,
      "outputs": [
        {
          "output_type": "display_data",
          "data": {
            "text/plain": [
              "<Figure size 640x480 with 1 Axes>"
            ],
            "image/png": "[encoded data removed]"
          },
          "metadata": {}
        }
      ]
    },
    {
      "cell_type": "markdown",
      "source": [
        "How add Title?"
      ],
      "metadata": {
        "id": "3ucUTcSOxWxV"
      }
    },
    {
      "cell_type": "markdown",
      "source": [
        "🔹 Q4: How did interest rates change over time per country?"
      ],
      "metadata": {
        "id": "Y_9tfNTkfusb"
      }
    },
    {
      "cell_type": "code",
      "source": [
        "interest_avg=df.groupby(['Country_Name','Years'])['Interest_rate (%)'].mean().reset_index()"
      ],
      "metadata": {
        "id": "msKd7z27xjY1"
      },
      "execution_count": 24,
      "outputs": []
    },
    {
      "cell_type": "code",
      "source": [
        "plt.figure(figsize=(10,5))\n",
        "sns.lineplot(data=interest_avg, x='Years',y='Interest_rate (%)',hue='Country_Name',markers='o')\n",
        "plt.title('Interest Rate Trend (2015-2024)')\n",
        "plt.grid(True)\n",
        "plt.show()\n",
        ""
      ],
      "metadata": {
        "colab": {
          "base_uri": "https://localhost:8080/",
          "height": 487
        },
        "id": "mii66BFebDdn",
        "outputId": "47fa6f6c-180e-4055-ea90-39e1dd6dc75f"
      },
      "execution_count": 25,
      "outputs": [
        {
          "output_type": "display_data",
          "data": {
            "text/plain": [
              "<Figure size 1000x500 with 1 Axes>"
            ],
            "image/png": "[encoded data removed]"
          },
          "metadata": {}
        }
      ]
    },
    {
      "cell_type": "markdown",
      "source": [
        "🔹 Q4: How did GDP change over time per country?"
      ],
      "metadata": {
        "id": "lmkvAO1OfyAn"
      }
    },
    {
      "cell_type": "code",
      "source": [
        "# Group GDP data\n",
        "lgdp_avg = df.groupby(['Country_Name', 'Years'])['LNGDP_(%)'].mean().reset_index()\n",
        "\n",
        "# Plot\n",
        "plt.figure(figsize=(10, 5))\n",
        "sns.lineplot(data=lgdp_avg, x='Years', y='LNGDP_(%)', hue='Country_Name', marker='o')\n",
        "plt.title('GDP Growth Trend (2015–2024)')\n",
        "plt.grid(True)\n",
        "plt.show()"
      ],
      "metadata": {
        "colab": {
          "base_uri": "https://localhost:8080/",
          "height": 487
        },
        "id": "8S1jWjzedfzv",
        "outputId": "df4903cb-d707-4b13-c8dd-1c810bb429d5"
      },
      "execution_count": 28,
      "outputs": [
        {
          "output_type": "display_data",
          "data": {
            "text/plain": [
              "<Figure size 1000x500 with 1 Axes>"
            ],
            "image/png": "[encoded data removed]"
          },
          "metadata": {}
        }
      ]
    },
    {
      "cell_type": "code",
      "source": [
        "df['LNGDP_(%)'].mean()\n"
      ],
      "metadata": {
        "colab": {
          "base_uri": "https://localhost:8080/"
        },
        "id": "MMIoTyq1d3cC",
        "outputId": "0811af55-d43e-48a6-fb68-ff15c35c53bb"
      },
      "execution_count": 29,
      "outputs": [
        {
          "output_type": "execute_result",
          "data": {
            "text/plain": [
              "np.float64(28.622528901333332)"
            ]
          },
          "metadata": {},
          "execution_count": 29
        }
      ]
    },
    {
      "cell_type": "code",
      "source": [
        "df.groupby('Country_Name')['LNGDP_(%)'].mean()\n"
      ],
      "metadata": {
        "colab": {
          "base_uri": "https://localhost:8080/",
          "height": 210
        },
        "id": "DNnwqBOVfX_T",
        "outputId": "abba8759-5ed5-471d-fe31-3b3bc1e31277"
      },
      "execution_count": 30,
      "outputs": [
        {
          "output_type": "execute_result",
          "data": {
            "text/plain": [
              "Country_Name\n",
              "India    28.618318\n",
              "PAK      26.611472\n",
              "USA      30.637796\n",
              "Name: LNGDP_(%), dtype: float64"
            ],
            "text/html": [
              "<div>\n",
              "<style scoped>\n",
              "    .dataframe tbody tr th:only-of-type {\n",
              "        vertical-align: middle;\n",
              "    }\n",
              "\n",
              "    .dataframe tbody tr th {\n",
              "        vertical-align: top;\n",
              "    }\n",
              "\n",
              "    .dataframe thead th {\n",
              "        text-align: right;\n",
              "    }\n",
              "</style>\n",
              "<table border=\"1\" class=\"dataframe\">\n",
              "  <thead>\n",
              "    <tr style=\"text-align: right;\">\n",
              "      <th></th>\n",
              "      <th>LNGDP_(%)</th>\n",
              "    </tr>\n",
              "    <tr>\n",
              "      <th>Country_Name</th>\n",
              "      <th></th>\n",
              "    </tr>\n",
              "  </thead>\n",
              "  <tbody>\n",
              "    <tr>\n",
              "      <th>India</th>\n",
              "      <td>28.618318</td>\n",
              "    </tr>\n",
              "    <tr>\n",
              "      <th>PAK</th>\n",
              "      <td>26.611472</td>\n",
              "    </tr>\n",
              "    <tr>\n",
              "      <th>USA</th>\n",
              "      <td>30.637796</td>\n",
              "    </tr>\n",
              "  </tbody>\n",
              "</table>\n",
              "</div><br><label><b>dtype:</b> float64</label>"
            ]
          },
          "metadata": {},
          "execution_count": 30
        }
      ]
    },
    {
      "cell_type": "markdown",
      "source": [
        "✅ Step 3: Correlation and Economic Insights\n",
        "🔹 Q5: Is there a correlation between CPI and Interest Rate?"
      ],
      "metadata": {
        "id": "1eEc1w8Qf6b0"
      }
    },
    {
      "cell_type": "code",
      "source": [
        "# Correlation per country\n",
        "for country in df['Country_Name'].unique():\n",
        "    subset = df[df['Country_Name'] == country][['CPI_(%)', 'Interest_rate (%)']]\n",
        "    print(f\"{country} correlation:\\n\", subset.corr(), \"\\n\")\n"
      ],
      "metadata": {
        "colab": {
          "base_uri": "https://localhost:8080/"
        },
        "id": "7szmiE1tfamv",
        "outputId": "a21e7ab2-2a2d-445e-aaa7-93d413c7a2a1"
      },
      "execution_count": 31,
      "outputs": [
        {
          "output_type": "stream",
          "name": "stdout",
          "text": [
            "India correlation:\n",
            "                     CPI_(%)  Interest_rate (%)\n",
            "CPI_(%)            1.000000          -0.541947\n",
            "Interest_rate (%) -0.541947           1.000000 \n",
            "\n",
            "USA correlation:\n",
            "                     CPI_(%)  Interest_rate (%)\n",
            "CPI_(%)            1.000000           0.017956\n",
            "Interest_rate (%)  0.017956           1.000000 \n",
            "\n",
            "PAK correlation:\n",
            "                     CPI_(%)  Interest_rate (%)\n",
            "CPI_(%)            1.000000           0.175342\n",
            "Interest_rate (%)  0.175342           1.000000 \n",
            "\n"
          ]
        }
      ]
    },
    {
      "cell_type": "markdown",
      "source": [
        "🔹 Q6: How does GDP (log) correlate with CPI and Interest Rate?\n",
        "python\n",
        "Copy code\n"
      ],
      "metadata": {
        "id": "31jRl18zgUSg"
      }
    },
    {
      "cell_type": "code",
      "source": [
        "for country in df['Country_Name'].unique():\n",
        "    subset = df[df['Country_Name'] == country][['LNGDP_(%)', 'CPI_(%)', 'Interest_rate (%)']]\n",
        "    print(f\"{country} correlation:\\n\", subset.corr(), \"\\n\")\n"
      ],
      "metadata": {
        "colab": {
          "base_uri": "https://localhost:8080/"
        },
        "id": "5IJWErJHgLNv",
        "outputId": "776a24c8-381d-4bd2-dc77-70b92c180749"
      },
      "execution_count": 32,
      "outputs": [
        {
          "output_type": "stream",
          "name": "stdout",
          "text": [
            "India correlation:\n",
            "                    LNGDP_(%)   CPI_(%)  Interest_rate (%)\n",
            "LNGDP_(%)           1.000000  0.276382          -0.570149\n",
            "CPI_(%)             0.276382  1.000000          -0.541947\n",
            "Interest_rate (%)  -0.570149 -0.541947           1.000000 \n",
            "\n",
            "USA correlation:\n",
            "                    LNGDP_(%)   CPI_(%)  Interest_rate (%)\n",
            "LNGDP_(%)           1.000000  0.664284           0.150929\n",
            "CPI_(%)             0.664284  1.000000           0.017956\n",
            "Interest_rate (%)   0.150929  0.017956           1.000000 \n",
            "\n",
            "PAK correlation:\n",
            "                    LNGDP_(%)   CPI_(%)  Interest_rate (%)\n",
            "LNGDP_(%)           1.000000  0.755614           0.077964\n",
            "CPI_(%)             0.755614  1.000000           0.175342\n",
            "Interest_rate (%)   0.077964  0.175342           1.000000 \n",
            "\n"
          ]
        }
      ]
    },
    {
      "cell_type": "code",
      "source": [
        "df[['CPI_(%)', 'Interest_rate (%)', 'LNGDP_(%)']].corr()\n"
      ],
      "metadata": {
        "colab": {
          "base_uri": "https://localhost:8080/",
          "height": 143
        },
        "id": "pNGwOx1TgYnX",
        "outputId": "4bef0734-88b2-4ca2-f427-daa9ee64a4bf"
      },
      "execution_count": 33,
      "outputs": [
        {
          "output_type": "execute_result",
          "data": {
            "text/plain": [
              "                    CPI_(%)  Interest_rate (%)  LNGDP_(%)\n",
              "CPI_(%)            1.000000           0.426087  -0.515266\n",
              "Interest_rate (%)  0.426087           1.000000  -0.849937\n",
              "LNGDP_(%)         -0.515266          -0.849937   1.000000"
            ],
            "text/html": [
              "\n",
              "  <div id=\"df-8799435f-47e2-41de-b0dc-c98b7773f177\" class=\"colab-df-container\">\n",
              "    <div>\n",
              "<style scoped>\n",
              "    .dataframe tbody tr th:only-of-type {\n",
              "        vertical-align: middle;\n",
              "    }\n",
              "\n",
              "    .dataframe tbody tr th {\n",
              "        vertical-align: top;\n",
              "    }\n",
              "\n",
              "    .dataframe thead th {\n",
              "        text-align: right;\n",
              "    }\n",
              "</style>\n",
              "<table border=\"1\" class=\"dataframe\">\n",
              "  <thead>\n",
              "    <tr style=\"text-align: right;\">\n",
              "      <th></th>\n",
              "      <th>CPI_(%)</th>\n",
              "      <th>Interest_rate (%)</th>\n",
              "      <th>LNGDP_(%)</th>\n",
              "    </tr>\n",
              "  </thead>\n",
              "  <tbody>\n",
              "    <tr>\n",
              "      <th>CPI_(%)</th>\n",
              "      <td>1.000000</td>\n",
              "      <td>0.426087</td>\n",
              "      <td>-0.515266</td>\n",
              "    </tr>\n",
              "    <tr>\n",
              "      <th>Interest_rate (%)</th>\n",
              "      <td>0.426087</td>\n",
              "      <td>1.000000</td>\n",
              "      <td>-0.849937</td>\n",
              "    </tr>\n",
              "    <tr>\n",
              "      <th>LNGDP_(%)</th>\n",
              "      <td>-0.515266</td>\n",
              "      <td>-0.849937</td>\n",
              "      <td>1.000000</td>\n",
              "    </tr>\n",
              "  </tbody>\n",
              "</table>\n",
              "</div>\n",
              "    <div class=\"colab-df-buttons\">\n",
              "\n",
              "  <div class=\"colab-df-container\">\n",
              "    <button class=\"colab-df-convert\" onclick=\"convertToInteractive('df-8799435f-47e2-41de-b0dc-c98b7773f177')\"\n",
              "            title=\"Convert this dataframe to an interactive table.\"\n",
              "            style=\"display:none;\">\n",
              "\n",
              "  <svg xmlns=\"http://www.w3.org/2000/svg\" height=\"24px\" viewBox=\"0 -960 960 960\">\n",
              "    <path d=\"M120-120v-720h720v720H120Zm60-500h600v-160H180v160Zm220 220h160v-160H400v160Zm0 220h160v-160H400v160ZM180-400h160v-160H180v160Zm440 0h160v-160H620v160ZM180-180h160v-160H180v160Zm440 0h160v-160H620v160Z\"/>\n",
              "  </svg>\n",
              "    </button>\n",
              "\n",
              "  <style>\n",
              "    .colab-df-container {\n",
              "      display:flex;\n",
              "      gap: 12px;\n",
              "    }\n",
              "\n",
              "    .colab-df-convert {\n",
              "      background-color: #E8F0FE;\n",
              "      border: none;\n",
              "      border-radius: 50%;\n",
              "      cursor: pointer;\n",
              "      display: none;\n",
              "      fill: #1967D2;\n",
              "      height: 32px;\n",
              "      padding: 0 0 0 0;\n",
              "      width: 32px;\n",
              "    }\n",
              "\n",
              "    .colab-df-convert:hover {\n",
              "      background-color: #E2EBFA;\n",
              "      box-shadow: 0px 1px 2px rgba(60, 64, 67, 0.3), 0px 1px 3px 1px rgba(60, 64, 67, 0.15);\n",
              "      fill: #174EA6;\n",
              "    }\n",
              "\n",
              "    .colab-df-buttons div {\n",
              "      margin-bottom: 4px;\n",
              "    }\n",
              "\n",
              "    [theme=dark] .colab-df-convert {\n",
              "      background-color: #3B4455;\n",
              "      fill: #D2E3FC;\n",
              "    }\n",
              "\n",
              "    [theme=dark] .colab-df-convert:hover {\n",
              "      background-color: #434B5C;\n",
              "      box-shadow: 0px 1px 3px 1px rgba(0, 0, 0, 0.15);\n",
              "      filter: drop-shadow(0px 1px 2px rgba(0, 0, 0, 0.3));\n",
              "      fill: #FFFFFF;\n",
              "    }\n",
              "  </style>\n",
              "\n",
              "    <script>\n",
              "      const buttonEl =\n",
              "        document.querySelector('#df-8799435f-47e2-41de-b0dc-c98b7773f177 button.colab-df-convert');\n",
              "      buttonEl.style.display =\n",
              "        google.colab.kernel.accessAllowed ? 'block' : 'none';\n",
              "\n",
              "      async function convertToInteractive(key) {\n",
              "        const element = document.querySelector('#df-8799435f-47e2-41de-b0dc-c98b7773f177');\n",
              "        const dataTable =\n",
              "          await google.colab.kernel.invokeFunction('convertToInteractive',\n",
              "                                                    [key], {});\n",
              "        if (!dataTable) return;\n",
              "\n",
              "        const docLinkHtml = 'Like what you see? Visit the ' +\n",
              "          '<a target=\"_blank\" href=https://colab.research.google.com/notebooks/data_table.ipynb>data table notebook</a>'\n",
              "          + ' to learn more about interactive tables.';\n",
              "        element.innerHTML = '';\n",
              "        dataTable['output_type'] = 'display_data';\n",
              "        await google.colab.output.renderOutput(dataTable, element);\n",
              "        const docLink = document.createElement('div');\n",
              "        docLink.innerHTML = docLinkHtml;\n",
              "        element.appendChild(docLink);\n",
              "      }\n",
              "    </script>\n",
              "  </div>\n",
              "\n",
              "\n",
              "    <div id=\"df-b3c82c90-4456-4247-8a4d-3ab7e481aeed\">\n",
              "      <button class=\"colab-df-quickchart\" onclick=\"quickchart('df-b3c82c90-4456-4247-8a4d-3ab7e481aeed')\"\n",
              "                title=\"Suggest charts\"\n",
              "                style=\"display:none;\">\n",
              "\n",
              "<svg xmlns=\"http://www.w3.org/2000/svg\" height=\"24px\"viewBox=\"0 0 24 24\"\n",
              "     width=\"24px\">\n",
              "    <g>\n",
              "        <path d=\"M19 3H5c-1.1 0-2 .9-2 2v14c0 1.1.9 2 2 2h14c1.1 0 2-.9 2-2V5c0-1.1-.9-2-2-2zM9 17H7v-7h2v7zm4 0h-2V7h2v10zm4 0h-2v-4h2v4z\"/>\n",
              "    </g>\n",
              "</svg>\n",
              "      </button>\n",
              "\n",
              "<style>\n",
              "  .colab-df-quickchart {\n",
              "      --bg-color: #E8F0FE;\n",
              "      --fill-color: #1967D2;\n",
              "      --hover-bg-color: #E2EBFA;\n",
              "      --hover-fill-color: #174EA6;\n",
              "      --disabled-fill-color: #AAA;\n",
              "      --disabled-bg-color: #DDD;\n",
              "  }\n",
              "\n",
              "  [theme=dark] .colab-df-quickchart {\n",
              "      --bg-color: #3B4455;\n",
              "      --fill-color: #D2E3FC;\n",
              "      --hover-bg-color: #434B5C;\n",
              "      --hover-fill-color: #FFFFFF;\n",
              "      --disabled-bg-color: #3B4455;\n",
              "      --disabled-fill-color: #666;\n",
              "  }\n",
              "\n",
              "  .colab-df-quickchart {\n",
              "    background-color: var(--bg-color);\n",
              "    border: none;\n",
              "    border-radius: 50%;\n",
              "    cursor: pointer;\n",
              "    display: none;\n",
              "    fill: var(--fill-color);\n",
              "    height: 32px;\n",
              "    padding: 0;\n",
              "    width: 32px;\n",
              "  }\n",
              "\n",
              "  .colab-df-quickchart:hover {\n",
              "    background-color: var(--hover-bg-color);\n",
              "    box-shadow: 0 1px 2px rgba(60, 64, 67, 0.3), 0 1px 3px 1px rgba(60, 64, 67, 0.15);\n",
              "    fill: var(--button-hover-fill-color);\n",
              "  }\n",
              "\n",
              "  .colab-df-quickchart-complete:disabled,\n",
              "  .colab-df-quickchart-complete:disabled:hover {\n",
              "    background-color: var(--disabled-bg-color);\n",
              "    fill: var(--disabled-fill-color);\n",
              "    box-shadow: none;\n",
              "  }\n",
              "\n",
              "  .colab-df-spinner {\n",
              "    border: 2px solid var(--fill-color);\n",
              "    border-color: transparent;\n",
              "    border-bottom-color: var(--fill-color);\n",
              "    animation:\n",
              "      spin 1s steps(1) infinite;\n",
              "  }\n",
              "\n",
              "  @keyframes spin {\n",
              "    0% {\n",
              "      border-color: transparent;\n",
              "      border-bottom-color: var(--fill-color);\n",
              "      border-left-color: var(--fill-color);\n",
              "    }\n",
              "    20% {\n",
              "      border-color: transparent;\n",
              "      border-left-color: var(--fill-color);\n",
              "      border-top-color: var(--fill-color);\n",
              "    }\n",
              "    30% {\n",
              "      border-color: transparent;\n",
              "      border-left-color: var(--fill-color);\n",
              "      border-top-color: var(--fill-color);\n",
              "      border-right-color: var(--fill-color);\n",
              "    }\n",
              "    40% {\n",
              "      border-color: transparent;\n",
              "      border-right-color: var(--fill-color);\n",
              "      border-top-color: var(--fill-color);\n",
              "    }\n",
              "    60% {\n",
              "      border-color: transparent;\n",
              "      border-right-color: var(--fill-color);\n",
              "    }\n",
              "    80% {\n",
              "      border-color: transparent;\n",
              "      border-right-color: var(--fill-color);\n",
              "      border-bottom-color: var(--fill-color);\n",
              "    }\n",
              "    90% {\n",
              "      border-color: transparent;\n",
              "      border-bottom-color: var(--fill-color);\n",
              "    }\n",
              "  }\n",
              "</style>\n",
              "\n",
              "      <script>\n",
              "        async function quickchart(key) {\n",
              "          const quickchartButtonEl =\n",
              "            document.querySelector('#' + key + ' button');\n",
              "          quickchartButtonEl.disabled = true;  // To prevent multiple clicks.\n",
              "          quickchartButtonEl.classList.add('colab-df-spinner');\n",
              "          try {\n",
              "            const charts = await google.colab.kernel.invokeFunction(\n",
              "                'suggestCharts', [key], {});\n",
              "          } catch (error) {\n",
              "            console.error('Error during call to suggestCharts:', error);\n",
              "          }\n",
              "          quickchartButtonEl.classList.remove('colab-df-spinner');\n",
              "          quickchartButtonEl.classList.add('colab-df-quickchart-complete');\n",
              "        }\n",
              "        (() => {\n",
              "          let quickchartButtonEl =\n",
              "            document.querySelector('#df-b3c82c90-4456-4247-8a4d-3ab7e481aeed button');\n",
              "          quickchartButtonEl.style.display =\n",
              "            google.colab.kernel.accessAllowed ? 'block' : 'none';\n",
              "        })();\n",
              "      </script>\n",
              "    </div>\n",
              "\n",
              "    </div>\n",
              "  </div>\n"
            ],
            "application/vnd.google.colaboratory.intrinsic+json": {
              "type": "dataframe",
              "summary": "{\n  \"name\": \"df[['CPI_(%)', 'Interest_rate (%)', 'LNGDP_(%)']]\",\n  \"rows\": 3,\n  \"fields\": [\n    {\n      \"column\": \"CPI_(%)\",\n      \"properties\": {\n        \"dtype\": \"number\",\n        \"std\": 0.7650223006759157,\n        \"min\": -0.5152664174265433,\n        \"max\": 1.0,\n        \"num_unique_values\": 3,\n        \"samples\": [\n          1.0,\n          0.42608702631518036,\n          -0.5152664174265433\n        ],\n        \"semantic_type\": \"\",\n        \"description\": \"\"\n      }\n    },\n    {\n      \"column\": \"Interest_rate (%)\",\n      \"properties\": {\n        \"dtype\": \"number\",\n        \"std\": 0.9469142071056282,\n        \"min\": -0.8499368036834848,\n        \"max\": 1.0,\n        \"num_unique_values\": 3,\n        \"samples\": [\n          0.42608702631518036,\n          1.0,\n          -0.8499368036834848\n        ],\n        \"semantic_type\": \"\",\n        \"description\": \"\"\n      }\n    },\n    {\n      \"column\": \"LNGDP_(%)\",\n      \"properties\": {\n        \"dtype\": \"number\",\n        \"std\": 0.9857571337843744,\n        \"min\": -0.8499368036834848,\n        \"max\": 1.0,\n        \"num_unique_values\": 3,\n        \"samples\": [\n          -0.5152664174265433,\n          -0.8499368036834848,\n          1.0\n        ],\n        \"semantic_type\": \"\",\n        \"description\": \"\"\n      }\n    }\n  ]\n}"
            }
          },
          "metadata": {},
          "execution_count": 33
        }
      ]
    },
    {
      "cell_type": "markdown",
      "source": [
        "✅ Required: These libraries are needed to create and display the heatmap.\n",
        "seaborn is used for plotting, and matplotlib.pyplot is required to render the figure."
      ],
      "metadata": {
        "id": "URlV0HMbh0WG"
      }
    },
    {
      "cell_type": "code",
      "source": [
        "import seaborn as sns\n",
        "import matplotlib.pyplot as plt"
      ],
      "metadata": {
        "id": "KXxuPj8rgrFX"
      },
      "execution_count": 35,
      "outputs": []
    },
    {
      "cell_type": "markdown",
      "source": [
        "✅ Required: Selects only the three numeric columns you want to correlate.\n",
        "\n",
        "If you skip this and use the full DataFrame, you might get an error or irrelevant correlations (like with Country_Name).\n",
        "\n",
        "python\n",
        "Copy code\n",
        "corr_matrix = corr_data.corr()\n",
        "✅ Required: This calculates the Pearson correlation matrix, which is what the heatmap will visualize.\n",
        "\n",
        "Without this, you have no data to plot.\n",
        "\n",
        "python\n",
        "Copy code\n",
        "plt.figure(figsize=(8, 6))\n",
        "sns.heatmap(corr_matrix, annot=True, cmap='coolwarm', fmt=\".2f\", linewidths=0.5)\n",
        "plt.title(\"Correlation Heatmap: CPI, Interest Rate, and Log GDP\")\n",
        "plt.show()\n",
        "✅ Required: This section:\n",
        "\n",
        "Sets the figure size\n",
        "\n",
        "Draws the heatmap with annotations (annot=True)\n",
        "\n",
        "Uses a color map (cmap='coolwarm')\n",
        "\n",
        "Formats numbers (fmt=\".2f\")\n",
        "\n",
        "Adds a title\n",
        "\n",
        "Shows the plot\n",
        "\n",
        "✅ In Summary — Compulsory Steps:\n",
        "Step\tDescription\tRequired\n",
        "Import libraries\tseaborn, matplotlib.pyplot\t✅ Yes\n",
        "Select numeric columns\tFilter DataFrame\t✅ Yes\n",
        "Compute correlation\tcorr()\t✅ Yes\n",
        "Plot with sns.heatmap()\tVisualizes matrix\t✅ Yes\n",
        "\n",
        "Let me know if you want a version that shows correlation by country (using groupby) or want to save the plot to a file!\n"
      ],
      "metadata": {
        "id": "KUFeQPIBh4dT"
      }
    },
    {
      "cell_type": "code",
      "source": [
        "# Select relevant columns\n",
        "corr_data = df[['CPI_(%)', 'Interest_rate (%)', 'LNGDP_(%)']]"
      ],
      "metadata": {
        "id": "WoqA7FqXhA5G"
      },
      "execution_count": 36,
      "outputs": []
    },
    {
      "cell_type": "markdown",
      "source": [
        "✅ Required: This calculates the Pearson correlation matrix, which is what the heatmap will visualize.\n",
        "\n",
        "Without this, you have no data to plot."
      ],
      "metadata": {
        "id": "QolcKUMxiCC-"
      }
    },
    {
      "cell_type": "code",
      "source": [
        "# Calculate correlation matrix\n",
        "corr_matrix = corr_data.corr()"
      ],
      "metadata": {
        "id": "vC78QMh6hIhQ"
      },
      "execution_count": 37,
      "outputs": []
    },
    {
      "cell_type": "markdown",
      "source": [
        "✅ Required: This section:\n",
        "\n",
        "Sets the figure size\n",
        "Draws the heatmap with annotations (annot=True)\n",
        "\n",
        "Uses a color map (cmap='coolwarm')\n",
        "\n",
        "Formats numbers (fmt=\".2f\")\n",
        "\n",
        "Adds a title\n",
        "\n",
        "Shows the plot\n",
        "\n"
      ],
      "metadata": {
        "id": "gCoJMqXviH7k"
      }
    },
    {
      "cell_type": "code",
      "source": [
        "# Plot heatmap\n",
        "plt.figure(figsize=(8, 6))\n",
        "sns.heatmap(corr_matrix, annot=True, cmap='coolwarm', fmt=\".2f\", linewidths=0.5)\n",
        "plt.title(\"Correlation Heatmap: CPI, Interest Rate, and Log GDP\")\n",
        "plt.show()"
      ],
      "metadata": {
        "colab": {
          "base_uri": "https://localhost:8080/",
          "height": 545
        },
        "id": "QfG7yIJBhKcL",
        "outputId": "047526f6-4db3-42c9-dc20-c0e132b3f0bd"
      },
      "execution_count": 38,
      "outputs": [
        {
          "output_type": "display_data",
          "data": {
            "text/plain": [
              "<Figure size 800x600 with 2 Axes>"
            ],
            "image/png": "[encoded data removed]"
          },
          "metadata": {}
        }
      ]
    },
    {
      "cell_type": "markdown",
      "source": [
        "📊 Interpretation of Values:\n",
        "Variable Pair\tCorrelation\tMeaning\n",
        "CPI & Interest Rate\t+0.43\tModerate positive correlation:\n",
        "#As inflation rises, interest rates tend to rise.\n",
        "#Interest Rate & LNGDP\t-0.85\tStrong negative correlation:\n",
        "#As interest rates increase, GDP growth tends to decrease.\n",
        "#CPI & LNGDP\t-0.52\tModerate negative correlation: Higher inflation is somewhat associated with lower GDP growth."
      ],
      "metadata": {
        "id": "ygWFcc8bi1MT"
      }
    },
    {
      "cell_type": "markdown",
      "source": [
        "#✅ Step 4: Advanced Analysis – Regression\n",
        "🔹 Q7: Can CPI be predicted using interest rate and log GDP?"
      ],
      "metadata": {
        "id": "5uTExIiDjRRN"
      }
    },
    {
      "cell_type": "markdown",
      "source": [
        "To run multiple regression analysis with GDP (LNGDP) as the dependent variable and CPI and Interest Rate as independent variables on panel data, follow these steps:"
      ],
      "metadata": {
        "id": "dT1i-Nnbmfoj"
      }
    },
    {
      "cell_type": "code",
      "source": [
        "import statsmodels.api as sm\n",
        "import pandas as pd\n",
        "import numpy as np\n",
        "\n",
        "# Define features (independent variables) and target (dependent variable)\n",
        "X = df_model[['Interest_rate (%)', 'CPI_(%)', 'Country_Name_USA']]\n",
        "y = df_model['LNGDP_(%)']\n",
        "\n",
        "# Convert all to numeric explicitly (force everything to float)\n",
        "X = X.apply(pd.to_numeric, errors='coerce').astype(float)\n",
        "y = pd.to_numeric(y, errors='coerce').astype(float)\n",
        "\n",
        "# Combine and drop missing rows\n",
        "df_clean = pd.concat([X, y], axis=1).dropna()\n",
        "X = df_clean[X.columns]\n",
        "y = df_clean[y.name]\n",
        "\n",
        "# Add constant (intercept term)\n",
        "X = sm.add_constant(X)\n",
        "\n",
        "# Confirm data types\n",
        "print(X.dtypes)\n",
        "print(y.dtypes)\n",
        "\n",
        "# Now fit the model\n",
        "model = sm.OLS(y, X).fit()\n",
        "\n",
        "# Show results\n",
        "print(model.summary())\n"
      ],
      "metadata": {
        "colab": {
          "base_uri": "https://localhost:8080/"
        },
        "id": "HDI0stmno3-Y",
        "outputId": "0234ac03-e5ed-479d-c051-749753a9b84f"
      },
      "execution_count": 69,
      "outputs": [
        {
          "output_type": "stream",
          "name": "stdout",
          "text": [
            "const                float64\n",
            "Interest_rate (%)    float64\n",
            "CPI_(%)              float64\n",
            "Country_Name_USA     float64\n",
            "dtype: object\n",
            "float64\n",
            "                            OLS Regression Results                            \n",
            "==============================================================================\n",
            "Dep. Variable:              LNGDP_(%)   R-squared:                       0.786\n",
            "Model:                            OLS   Adj. R-squared:                  0.761\n",
            "Method:                 Least Squares   F-statistic:                     31.81\n",
            "Date:                Fri, 25 Jul 2025   Prob (F-statistic):           7.45e-09\n",
            "Time:                        17:35:21   Log-Likelihood:                -34.426\n",
            "No. Observations:                  30   AIC:                             76.85\n",
            "Df Residuals:                      26   BIC:                             82.46\n",
            "Df Model:                           3                                         \n",
            "Covariance Type:            nonrobust                                         \n",
            "=====================================================================================\n",
            "                        coef    std err          t      P>|t|      [0.025      0.975]\n",
            "-------------------------------------------------------------------------------------\n",
            "const                28.9913      1.773     16.350      0.000      25.347      32.636\n",
            "Interest_rate (%)    -0.1005      0.189     -0.532      0.599      -0.489       0.288\n",
            "CPI_(%)              -0.0536      0.028     -1.947      0.062      -0.110       0.003\n",
            "Country_Name_USA      2.2007      1.070      2.057      0.050       0.002       4.400\n",
            "==============================================================================\n",
            "Omnibus:                        2.545   Durbin-Watson:                   0.396\n",
            "Prob(Omnibus):                  0.280   Jarque-Bera (JB):                1.890\n",
            "Skew:                          -0.443   Prob(JB):                        0.389\n",
            "Kurtosis:                       2.147   Cond. No.                         155.\n",
            "==============================================================================\n",
            "\n",
            "Notes:\n",
            "[1] Standard Errors assume that the covariance matrix of the errors is correctly specified.\n"
          ]
        }
      ]
    },
    {
      "cell_type": "markdown",
      "source": [
        "The model explains 78.6% of the variation in LNGDP (%) (R-squared = 0.786), indicating a strong overall fit. Among the predictors:\n",
        "\n",
        "Interest Rate (%) has a negative but statistically insignificant effect on LNGDP (p = 0.599).\n",
        "\n",
        "CPI (%) also shows a negative effect, which is marginally insignificant (p = 0.062), suggesting inflation may reduce LNGDP but evidence is weak.\n",
        "\n",
        "Country_Name_USA is positive and significant (p = 0.050), implying that being the USA (vs. another country) is associated with a 2.2% higher LNGDP, holding other factors constant.\n",
        "\n",
        "The model intercept is 28.99, and the low Durbin-Watson value (0.396) indicates possible positive autocorrelation in residuals, which may need addressing in time series settings."
      ],
      "metadata": {
        "id": "xa9CHwR2psDq"
      }
    },
    {
      "cell_type": "code",
      "source": [
        "df.to_csv(\"cleaned_macro_data.csv\", index=False)\n"
      ],
      "metadata": {
        "id": "YRrrgCPwpGwO"
      },
      "execution_count": 70,
      "outputs": []
    },
    {
      "cell_type": "code",
      "source": [],
      "metadata": {
        "id": "4PRM4Z0ZqE5D"
      },
      "execution_count": null,
      "outputs": []
    }
  ]
}
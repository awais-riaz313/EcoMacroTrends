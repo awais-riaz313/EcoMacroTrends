{
  "nbformat": 4,
  "nbformat_minor": 0,
  "metadata": {
    "colab": {
      "provenance": [],
      "authorship_tag": "ABX9TyOR+Ef3CH6Owu+2ZxGIbrUr",
      "include_colab_link": true
    },
    "kernelspec": {
      "name": "python3",
      "display_name": "Python 3"
    },
    "language_info": {
      "name": "python"
    }
  },
  "cells": [
    {
      "cell_type": "markdown",
      "metadata": {
        "id": "view-in-github",
        "colab_type": "text"
      },
      "source": [
        "<a href=\"https://colab.research.google.com/github/awais-riaz313/EcoMacroTrends/blob/main/Basic%20of%20List/Tuple/Nesting.ipynb\" target=\"_parent\"><img src=\"https://colab.research.google.com/assets/colab-badge.svg\" alt=\"Open In Colab\"/></a>"
      ]
    },
    {
      "cell_type": "markdown",
      "source": [
        "**Table of Contents**\n",
        "\n",
        "Lists and Tuple Nesting\n",
        "\n",
        "Indexing\n",
        "\n",
        "List Content\n",
        "\n",
        "List Operations\n",
        "\n",
        "Copy and Clone List\n",
        "\n",
        "Quiz on Lists\n",
        "\n",
        "Scenario:Shopping List\n",
        "\n",
        "\n",
        "\n"
      ],
      "metadata": {
        "id": "ZqaKV1k7WibR"
      }
    },
    {
      "cell_type": "markdown",
      "source": [
        "**List:** A list is a sequenced collection of different objects such as integers, strings, and even other lists as well. The address of each element within a list is called an index. An index is used to access and refer to items within a list."
      ],
      "metadata": {
        "id": "5M7T4NIFXb1v"
      }
    },
    {
      "cell_type": "markdown",
      "source": [
        "To create a list, type the list within square brackets [ ], with your content inside the parenthesis and separated by commas. Let us try it!"
      ],
      "metadata": {
        "id": "g-QhLJ6gXwYe"
      }
    },
    {
      "cell_type": "code",
      "execution_count": null,
      "metadata": {
        "id": "_Hv1MevLWaup"
      },
      "outputs": [],
      "source": [
        "# Create a List\n",
        "L=[\"The Bodyguard\",7.0,1992]"
      ]
    },
    {
      "cell_type": "code",
      "source": [
        "print(L)"
      ],
      "metadata": {
        "colab": {
          "base_uri": "https://localhost:8080/"
        },
        "id": "dN1nzU1eYDHz",
        "outputId": "fa7b3f84-fb99-4753-f2b9-fdf191fb2cae"
      },
      "execution_count": null,
      "outputs": [
        {
          "output_type": "stream",
          "name": "stdout",
          "text": [
            "['The Bodyguard', 7.0, 1992]\n"
          ]
        }
      ]
    },
    {
      "cell_type": "code",
      "source": [
        "L"
      ],
      "metadata": {
        "colab": {
          "base_uri": "https://localhost:8080/"
        },
        "id": "aUqCDbMnYG5F",
        "outputId": "598bd96e-c267-4aa2-bcfe-c5759c8f7ca6"
      },
      "execution_count": null,
      "outputs": [
        {
          "output_type": "execute_result",
          "data": {
            "text/plain": [
              "['The Bodyguard', 7.0, 1992]"
            ]
          },
          "metadata": {},
          "execution_count": 4
        }
      ]
    },
    {
      "cell_type": "markdown",
      "source": [
        "We can use negative and regular indexing with a list:"
      ],
      "metadata": {
        "id": "Xz8R_ZJOY5DR"
      }
    },
    {
      "cell_type": "code",
      "source": [
        "print('the name of element using negative and positive indexing:/n Positive:',L[0],\n",
        "      '/n Negative:',L[-3])"
      ],
      "metadata": {
        "colab": {
          "base_uri": "https://localhost:8080/"
        },
        "id": "gX-ECH0rYNv8",
        "outputId": "4fae9c64-e7ce-4754-f004-1f47416c2dda"
      },
      "execution_count": null,
      "outputs": [
        {
          "output_type": "stream",
          "name": "stdout",
          "text": [
            "the name of element using negative and positive indexing:/n Positive: The Bodyguard /n Negative: The Bodyguard\n"
          ]
        }
      ]
    },
    {
      "cell_type": "code",
      "source": [
        "print('the same element using negative and positive indexing:/n Positive:',L[1],'/n Negative:',L[-2])"
      ],
      "metadata": {
        "colab": {
          "base_uri": "https://localhost:8080/"
        },
        "id": "PtqTryvfZrqO",
        "outputId": "05d6ed5b-80a8-44e6-f5e6-4afef3a80431"
      },
      "execution_count": null,
      "outputs": [
        {
          "output_type": "stream",
          "name": "stdout",
          "text": [
            "the same element using negative and positive indexing:/n Positive: 7.0 /n Negative: 7.0\n"
          ]
        }
      ]
    },
    {
      "cell_type": "markdown",
      "source": [
        "**List Content**\n",
        "Lists can contain strings, floats, and integers. We can nest other lists, and we can also nest tuples and other data structures. The same indexing conventions apply for nesting:"
      ],
      "metadata": {
        "id": "swbXFBzmbosa"
      }
    },
    {
      "cell_type": "code",
      "source": [
        "# Sample List\n",
        "['The Bodygurd', 7.0,1992,[1,2], (\"A\",1)]"
      ],
      "metadata": {
        "colab": {
          "base_uri": "https://localhost:8080/"
        },
        "id": "eOoGZiHXanUF",
        "outputId": "f9965ceb-4553-47c1-a727-aa372a469fd8"
      },
      "execution_count": null,
      "outputs": [
        {
          "output_type": "execute_result",
          "data": {
            "text/plain": [
              "['The Bodygurd', 7.0, 1992, [1, 2], ('A', 1)]"
            ]
          },
          "metadata": {},
          "execution_count": 12
        }
      ]
    },
    {
      "cell_type": "markdown",
      "source": [
        "**List Operations**\n",
        "\n",
        "We can also perform slicing in lists. For example, if we want the last two elements, we use the following command:"
      ],
      "metadata": {
        "id": "i49N5pMKdhEL"
      }
    },
    {
      "cell_type": "code",
      "source": [
        "L=['The Bodygurd',7.0,1992,\"BG\",1]\n",
        "L"
      ],
      "metadata": {
        "colab": {
          "base_uri": "https://localhost:8080/"
        },
        "id": "urvN5Zi2cBok",
        "outputId": "65ca3799-cb2d-42b5-9b2f-80012546d24e"
      },
      "execution_count": null,
      "outputs": [
        {
          "output_type": "execute_result",
          "data": {
            "text/plain": [
              "['The Bodygurd', 7.0, 1992, 'BG', 1]"
            ]
          },
          "metadata": {},
          "execution_count": 13
        }
      ]
    },
    {
      "cell_type": "code",
      "source": [
        "# List Slicing\n",
        "L[3:5]"
      ],
      "metadata": {
        "colab": {
          "base_uri": "https://localhost:8080/"
        },
        "id": "8GjLjhBLdvEY",
        "outputId": "d28e48b9-67a9-4e78-a4db-ef707d079778"
      },
      "execution_count": null,
      "outputs": [
        {
          "output_type": "execute_result",
          "data": {
            "text/plain": [
              "['BG', 1]"
            ]
          },
          "metadata": {},
          "execution_count": 14
        }
      ]
    },
    {
      "cell_type": "code",
      "source": [
        "# List Slicing\n",
        "L[1:3]"
      ],
      "metadata": {
        "colab": {
          "base_uri": "https://localhost:8080/"
        },
        "id": "NN7XOPAjd6-5",
        "outputId": "b1dbaeca-da42-4c2b-f3cc-9e36cf4f615b"
      },
      "execution_count": null,
      "outputs": [
        {
          "output_type": "execute_result",
          "data": {
            "text/plain": [
              "[7.0, 1992]"
            ]
          },
          "metadata": {},
          "execution_count": 15
        }
      ]
    },
    {
      "cell_type": "code",
      "source": [
        "# List Slicing\n",
        "L[0]"
      ],
      "metadata": {
        "colab": {
          "base_uri": "https://localhost:8080/",
          "height": 35
        },
        "id": "Tvn1LnCgeEGB",
        "outputId": "fb20f5bd-761a-45b4-9a19-09bdb62e5351"
      },
      "execution_count": null,
      "outputs": [
        {
          "output_type": "execute_result",
          "data": {
            "text/plain": [
              "'The Bodygurd'"
            ],
            "application/vnd.google.colaboratory.intrinsic+json": {
              "type": "string"
            }
          },
          "metadata": {},
          "execution_count": 16
        }
      ]
    },
    {
      "cell_type": "code",
      "source": [
        "# Use Extend to add element to list\n",
        "L=[\"Awais\", 5.0]\n",
        "L.extend([\"Pop\",10])\n",
        "L"
      ],
      "metadata": {
        "colab": {
          "base_uri": "https://localhost:8080/"
        },
        "id": "6rjf9zHWeIqy",
        "outputId": "a650c010-9973-4f19-99ea-5bc02229ae8f"
      },
      "execution_count": null,
      "outputs": [
        {
          "output_type": "execute_result",
          "data": {
            "text/plain": [
              "['Awais', 5.0, 'Pop', 10]"
            ]
          },
          "metadata": {},
          "execution_count": 22
        }
      ]
    },
    {
      "cell_type": "code",
      "source": [
        "L.append(['a','b'])\n",
        "L"
      ],
      "metadata": {
        "colab": {
          "base_uri": "https://localhost:8080/"
        },
        "id": "odQesdK7gpre",
        "outputId": "51468210-71fe-42f1-dfb9-4ac78d22cb1d"
      },
      "execution_count": null,
      "outputs": [
        {
          "output_type": "execute_result",
          "data": {
            "text/plain": [
              "['Awais', 5.0, 'Pop', 10, ['a', 'b']]"
            ]
          },
          "metadata": {},
          "execution_count": 23
        }
      ]
    },
    {
      "cell_type": "code",
      "source": [
        "A= [\"disco\",10,1.2]\n",
        "print('Before change:',A)\n",
        "A[0]= 'hard rock'\n",
        "print(\"After Change:\",A)"
      ],
      "metadata": {
        "colab": {
          "base_uri": "https://localhost:8080/"
        },
        "id": "S5Y3jVxGgw8b",
        "outputId": "5307f82e-4996-42b1-e4b5-7baee363ea0f"
      },
      "execution_count": null,
      "outputs": [
        {
          "output_type": "stream",
          "name": "stdout",
          "text": [
            "Before change: ['disco', 10, 1.2]\n",
            "After Change: ['hard rock', 10, 1.2]\n"
          ]
        }
      ]
    },
    {
      "cell_type": "code",
      "source": [
        "print('Before change:', A)\n",
        "del(A[0])\n",
        "print('After change:', A)"
      ],
      "metadata": {
        "colab": {
          "base_uri": "https://localhost:8080/"
        },
        "id": "5pftN9VehtUS",
        "outputId": "36330728-8c30-4f17-aa51-5e7a95d89839"
      },
      "execution_count": null,
      "outputs": [
        {
          "output_type": "stream",
          "name": "stdout",
          "text": [
            "Before change: ['hard rock', 10, 1.2]\n",
            "After change: [10, 1.2]\n"
          ]
        }
      ]
    },
    {
      "cell_type": "code",
      "source": [
        "'hard rock'.split()"
      ],
      "metadata": {
        "colab": {
          "base_uri": "https://localhost:8080/"
        },
        "id": "z2v7yKIyiCtP",
        "outputId": "a68b017c-14f7-4351-9350-72ce41fc5caa"
      },
      "execution_count": null,
      "outputs": [
        {
          "output_type": "execute_result",
          "data": {
            "text/plain": [
              "['hard', 'rock']"
            ]
          },
          "metadata": {},
          "execution_count": 26
        }
      ]
    },
    {
      "cell_type": "code",
      "source": [
        "'A,B,C,D'.split(\",\")"
      ],
      "metadata": {
        "colab": {
          "base_uri": "https://localhost:8080/"
        },
        "id": "jpkbsU0vjTfi",
        "outputId": "0382e540-2ad8-4bb8-dfd6-132aadb333b5"
      },
      "execution_count": null,
      "outputs": [
        {
          "output_type": "execute_result",
          "data": {
            "text/plain": [
              "['A', 'B', 'C', 'D']"
            ]
          },
          "metadata": {},
          "execution_count": 28
        }
      ]
    },
    {
      "cell_type": "code",
      "source": [
        "Bag= ['Gold,Silvier',10,5]\n",
        "Safe=Bag\n",
        "print('Bag:',Bag)\n",
        "print(\"Safe:\",Safe)"
      ],
      "metadata": {
        "colab": {
          "base_uri": "https://localhost:8080/"
        },
        "id": "cXMA5jxGjagI",
        "outputId": "94d8f258-9721-4860-c2ca-c24a7e8bebb3"
      },
      "execution_count": null,
      "outputs": [
        {
          "output_type": "stream",
          "name": "stdout",
          "text": [
            "Bag: ['Gold,Silvier', 10, 5]\n",
            "Safe: ['Gold,Silvier', 10, 5]\n"
          ]
        }
      ]
    },
    {
      "cell_type": "code",
      "source": [
        "Bag[-1]"
      ],
      "metadata": {
        "colab": {
          "base_uri": "https://localhost:8080/"
        },
        "id": "nhVCLNf6kiJP",
        "outputId": "13f33b2e-7060-41d6-e54a-ee9837b1ccee"
      },
      "execution_count": null,
      "outputs": [
        {
          "output_type": "execute_result",
          "data": {
            "text/plain": [
              "5"
            ]
          },
          "metadata": {},
          "execution_count": 35
        }
      ]
    },
    {
      "cell_type": "code",
      "source": [
        "#Type your code here\n",
        "shoping_list=['watch','laptop','shoes','pen','clothes']"
      ],
      "metadata": {
        "id": "JqzE6DuLkqDh"
      },
      "execution_count": null,
      "outputs": []
    },
    {
      "cell_type": "code",
      "source": [
        "print(shoping_list)"
      ],
      "metadata": {
        "colab": {
          "base_uri": "https://localhost:8080/"
        },
        "id": "P_HeYMuHl4ss",
        "outputId": "29447ca9-5326-4d5e-8b20-cd293686ea79"
      },
      "execution_count": null,
      "outputs": [
        {
          "output_type": "stream",
          "name": "stdout",
          "text": [
            "['watch', 'laptop', 'shoes', 'pen', 'clothes']\n"
          ]
        }
      ]
    },
    {
      "cell_type": "code",
      "source": [
        "shoping_list.append(\"Football\")"
      ],
      "metadata": {
        "id": "3CiT0KSdl8nv"
      },
      "execution_count": null,
      "outputs": []
    },
    {
      "cell_type": "code",
      "source": [
        "print(shoping_list)"
      ],
      "metadata": {
        "colab": {
          "base_uri": "https://localhost:8080/"
        },
        "id": "zg1fz7ZPmGNO",
        "outputId": "e85345a7-8772-43a6-83f6-4c0f94661162"
      },
      "execution_count": null,
      "outputs": [
        {
          "output_type": "stream",
          "name": "stdout",
          "text": [
            "['watch', 'laptop', 'shoes', 'pen', 'clothes', 'Football']\n"
          ]
        }
      ]
    },
    {
      "cell_type": "code",
      "source": [
        "shoping_list[-6]"
      ],
      "metadata": {
        "colab": {
          "base_uri": "https://localhost:8080/",
          "height": 35
        },
        "id": "nmc_41M2mKAS",
        "outputId": "8b1eb723-8d07-45ef-930c-82dd7aebf5ff"
      },
      "execution_count": null,
      "outputs": [
        {
          "output_type": "execute_result",
          "data": {
            "text/plain": [
              "'watch'"
            ],
            "application/vnd.google.colaboratory.intrinsic+json": {
              "type": "string"
            }
          },
          "metadata": {},
          "execution_count": 41
        }
      ]
    },
    {
      "cell_type": "code",
      "source": [
        "shoping_list[5]"
      ],
      "metadata": {
        "colab": {
          "base_uri": "https://localhost:8080/",
          "height": 35
        },
        "id": "xaeq0QGVmaF8",
        "outputId": "892091de-66f4-4824-b7a0-8047b86c4a40"
      },
      "execution_count": null,
      "outputs": [
        {
          "output_type": "execute_result",
          "data": {
            "text/plain": [
              "'Football'"
            ],
            "application/vnd.google.colaboratory.intrinsic+json": {
              "type": "string"
            }
          },
          "metadata": {},
          "execution_count": 44
        }
      ]
    },
    {
      "cell_type": "code",
      "source": [
        "shoping_list[2:4]"
      ],
      "metadata": {
        "colab": {
          "base_uri": "https://localhost:8080/"
        },
        "id": "wu-se_fsmlPZ",
        "outputId": "8c2a846c-7e0f-4486-83b2-c8756ab6b97b"
      },
      "execution_count": null,
      "outputs": [
        {
          "output_type": "execute_result",
          "data": {
            "text/plain": [
              "['shoes', 'pen']"
            ]
          },
          "metadata": {},
          "execution_count": 45
        }
      ]
    },
    {
      "cell_type": "code",
      "source": [
        "shoping_list[3]='Notebook'"
      ],
      "metadata": {
        "id": "H4eY2_kTm5aH"
      },
      "execution_count": null,
      "outputs": []
    },
    {
      "cell_type": "code",
      "source": [
        "del(shoping_list[4])"
      ],
      "metadata": {
        "id": "6yRE3bJjnKk_"
      },
      "execution_count": null,
      "outputs": []
    },
    {
      "cell_type": "code",
      "source": [
        "print(shoping_list)"
      ],
      "metadata": {
        "colab": {
          "base_uri": "https://localhost:8080/"
        },
        "id": "Vs50bJNOnUWg",
        "outputId": "fe84aa49-0942-4118-a6fc-6048fdaf853b"
      },
      "execution_count": null,
      "outputs": [
        {
          "output_type": "stream",
          "name": "stdout",
          "text": [
            "['watch', 'laptop', 'shoes', 'Notebook', 'Football']\n"
          ]
        }
      ]
    },
    {
      "cell_type": "markdown",
      "source": [
        "**Tuples**\n",
        "\n",
        "In Python, there are different data types: String, Integer, and Float. These data types can all be contained in a tuple as follows:\n",
        "disco str,\n",
        "10 int\n",
        "1.2 float"
      ],
      "metadata": {
        "id": "Us87hVLwjunF"
      }
    },
    {
      "cell_type": "code",
      "source": [
        "# Create your first tuple\n",
        "tuple1 = (\"Umar\", 10, 1.2)\n",
        "tuple1"
      ],
      "metadata": {
        "id": "XurxgQM2nYnb",
        "colab": {
          "base_uri": "https://localhost:8080/"
        },
        "outputId": "3eb3a6c4-a2ff-4953-8461-2a9b617a99e3"
      },
      "execution_count": 1,
      "outputs": [
        {
          "output_type": "execute_result",
          "data": {
            "text/plain": [
              "('Umar', 10, 1.2)"
            ]
          },
          "metadata": {},
          "execution_count": 1
        }
      ]
    },
    {
      "cell_type": "markdown",
      "source": [
        "The type of variable is a tuple"
      ],
      "metadata": {
        "id": "4WtTFOt1keTC"
      }
    },
    {
      "cell_type": "code",
      "source": [
        "type(tuple1)"
      ],
      "metadata": {
        "colab": {
          "base_uri": "https://localhost:8080/"
        },
        "id": "gapblQ_ykYtd",
        "outputId": "ba671f93-3e53-4cc3-e56c-f2a639880ba3"
      },
      "execution_count": 2,
      "outputs": [
        {
          "output_type": "execute_result",
          "data": {
            "text/plain": [
              "tuple"
            ]
          },
          "metadata": {},
          "execution_count": 2
        }
      ]
    },
    {
      "cell_type": "markdown",
      "source": [
        "**Indexing**\n",
        "\n",
        "Each element of a tuple can be accessed via an index. The following table represents the relationship between the index and the items in the tuple. Each element can be obtained by the name of the tuple followed by a square bracket with the index number:"
      ],
      "metadata": {
        "id": "nlAyVPjTk9fH"
      }
    },
    {
      "cell_type": "code",
      "source": [
        "print(tuple1[0])\n",
        "print(tuple1[1])\n",
        "print(tuple1[2])"
      ],
      "metadata": {
        "colab": {
          "base_uri": "https://localhost:8080/"
        },
        "id": "Ghtyg2xnkvMf",
        "outputId": "c4e67121-aa77-40d6-8a74-4ae9bf7b7b6e"
      },
      "execution_count": 3,
      "outputs": [
        {
          "output_type": "stream",
          "name": "stdout",
          "text": [
            "Umar\n",
            "10\n",
            "1.2\n"
          ]
        }
      ]
    },
    {
      "cell_type": "markdown",
      "source": [
        "We can also use negative indexing. We use the same table above with corresponding negative values:"
      ],
      "metadata": {
        "id": "p-ykn8kho04n"
      }
    },
    {
      "cell_type": "code",
      "source": [
        "print(tuple1[-3])\n",
        "print(tuple1[-2])\n",
        "print(tuple1[-1])"
      ],
      "metadata": {
        "colab": {
          "base_uri": "https://localhost:8080/"
        },
        "id": "VCM6WPoYoOz0",
        "outputId": "b18c80fd-c52a-457c-bfdc-48e952c04764"
      },
      "execution_count": 4,
      "outputs": [
        {
          "output_type": "stream",
          "name": "stdout",
          "text": [
            "Umar\n",
            "10\n",
            "1.2\n"
          ]
        }
      ]
    },
    {
      "cell_type": "code",
      "source": [
        "print(type(tuple1[0]))\n"
      ],
      "metadata": {
        "colab": {
          "base_uri": "https://localhost:8080/"
        },
        "id": "dKx-9ic6oakB",
        "outputId": "60dd12a6-ee8a-40fd-f044-7f57e974924a"
      },
      "execution_count": 5,
      "outputs": [
        {
          "output_type": "stream",
          "name": "stdout",
          "text": [
            "<class 'str'>\n"
          ]
        }
      ]
    },
    {
      "cell_type": "code",
      "source": [
        "tuple1[-1]"
      ],
      "metadata": {
        "colab": {
          "base_uri": "https://localhost:8080/"
        },
        "id": "LQ_Cg1Uuok9y",
        "outputId": "2012840b-7fe7-4f75-9a57-d47450c725d2"
      },
      "execution_count": 6,
      "outputs": [
        {
          "output_type": "execute_result",
          "data": {
            "text/plain": [
              "1.2"
            ]
          },
          "metadata": {},
          "execution_count": 6
        }
      ]
    },
    {
      "cell_type": "markdown",
      "source": [
        "**Concatenate Tuples**\n",
        "We can also use negative indexing. We use the same table above with corresponding negative values:"
      ],
      "metadata": {
        "id": "fAGV7HDJpJNE"
      }
    },
    {
      "cell_type": "code",
      "source": [
        "# Concatenate Two Tuples\n",
        "tuple2= tuple1+(\"Wali\",10)\n",
        "tuple2"
      ],
      "metadata": {
        "colab": {
          "base_uri": "https://localhost:8080/"
        },
        "id": "rO0OVdD3o_E-",
        "outputId": "ab31a7b4-7678-4456-98dd-153711bdb054"
      },
      "execution_count": 7,
      "outputs": [
        {
          "output_type": "execute_result",
          "data": {
            "text/plain": [
              "('Umar', 10, 1.2, 'Wali', 10)"
            ]
          },
          "metadata": {},
          "execution_count": 7
        }
      ]
    },
    {
      "cell_type": "markdown",
      "source": [
        "We can slice tuples obtaining multiple values as demonstrated by the figure below:"
      ],
      "metadata": {
        "id": "0LvldRjYp5VW"
      }
    },
    {
      "cell_type": "code",
      "source": [
        "tuple2[0:5]:(\"Wali\",10)"
      ],
      "metadata": {
        "id": "j2SX2y0BptFo"
      },
      "execution_count": 8,
      "outputs": []
    },
    {
      "cell_type": "code",
      "source": [
        "# Slice from index 0 to index 2\n",
        "tuple2[0:3]"
      ],
      "metadata": {
        "colab": {
          "base_uri": "https://localhost:8080/"
        },
        "id": "tXDpNAhFqozP",
        "outputId": "50039e35-4aa8-4716-89c7-cad429dde77d"
      },
      "execution_count": 9,
      "outputs": [
        {
          "output_type": "execute_result",
          "data": {
            "text/plain": [
              "('Umar', 10, 1.2)"
            ]
          },
          "metadata": {},
          "execution_count": 9
        }
      ]
    },
    {
      "cell_type": "markdown",
      "source": [
        "We can obtain the length of a tuple using the length command:"
      ],
      "metadata": {
        "id": "_IUyk-wIq4lq"
      }
    },
    {
      "cell_type": "code",
      "source": [
        "len(tuple2)"
      ],
      "metadata": {
        "colab": {
          "base_uri": "https://localhost:8080/"
        },
        "id": "wkm5POVVqyEV",
        "outputId": "bffc5b89-76bd-4e9c-c0a3-7fcd515bc2e2"
      },
      "execution_count": 10,
      "outputs": [
        {
          "output_type": "execute_result",
          "data": {
            "text/plain": [
              "5"
            ]
          },
          "metadata": {},
          "execution_count": 10
        }
      ]
    },
    {
      "cell_type": "code",
      "source": [
        "# A sample tuple\n",
        "Ratings= (0,1,2,3,4,5,6,7,8,9)"
      ],
      "metadata": {
        "id": "1H4LT_DQq9P3"
      },
      "execution_count": 11,
      "outputs": []
    },
    {
      "cell_type": "code",
      "source": [
        "RatingsSorted = sorted(Ratings)\n",
        "RatingsSorted"
      ],
      "metadata": {
        "colab": {
          "base_uri": "https://localhost:8080/"
        },
        "id": "dU52WeoFr3W1",
        "outputId": "f822f9c2-8ff4-46f5-ab44-a2f380caa26d"
      },
      "execution_count": 12,
      "outputs": [
        {
          "output_type": "execute_result",
          "data": {
            "text/plain": [
              "[0, 1, 2, 3, 4, 5, 6, 7, 8, 9]"
            ]
          },
          "metadata": {},
          "execution_count": 12
        }
      ]
    },
    {
      "cell_type": "markdown",
      "source": [
        "**Nested Tuple**\n",
        "A tuple can contain another tuple as well as other more complex data types. This process is called 'nesting'. Consider the following tuple with several elements:"
      ],
      "metadata": {
        "id": "vfuyj5w9sorL"
      }
    },
    {
      "cell_type": "code",
      "source": [
        "# Create a nest tuple\n",
        "\n",
        "NestedT =(1, 2, (\"pop\", \"rock\") ,(3,4),(\"disco\",(1,2)))"
      ],
      "metadata": {
        "id": "105N2ExPsE6V"
      },
      "execution_count": 13,
      "outputs": []
    },
    {
      "cell_type": "markdown",
      "source": [
        "Each element in the tuple, including other tuples, can be obtained via an index as shown in the figure:"
      ],
      "metadata": {
        "id": "hGTcpjFitMQ3"
      }
    },
    {
      "cell_type": "code",
      "source": [
        "NestedT"
      ],
      "metadata": {
        "colab": {
          "base_uri": "https://localhost:8080/"
        },
        "id": "CY23ISDytJrT",
        "outputId": "864ace78-8d43-42cc-959e-62e2fd548085"
      },
      "execution_count": 14,
      "outputs": [
        {
          "output_type": "execute_result",
          "data": {
            "text/plain": [
              "(1, 2, ('pop', 'rock'), (3, 4), ('disco', (1, 2)))"
            ]
          },
          "metadata": {},
          "execution_count": 14
        }
      ]
    },
    {
      "cell_type": "code",
      "source": [
        "print(\"Element 0 of Tuple: \", NestedT[0])"
      ],
      "metadata": {
        "colab": {
          "base_uri": "https://localhost:8080/"
        },
        "id": "cVLPxNIatRtQ",
        "outputId": "35d84f8f-8a5f-45c0-8c44-fea27afeabc3"
      },
      "execution_count": 15,
      "outputs": [
        {
          "output_type": "stream",
          "name": "stdout",
          "text": [
            "Element 0 of Tuple:  1\n"
          ]
        }
      ]
    },
    {
      "cell_type": "code",
      "source": [
        "print(\"Element 1 of Tuple: \", NestedT[1])"
      ],
      "metadata": {
        "colab": {
          "base_uri": "https://localhost:8080/"
        },
        "id": "7XIFkxjotYCh",
        "outputId": "991dbcbf-dd2a-42a4-d1eb-a2ba6be34397"
      },
      "execution_count": 17,
      "outputs": [
        {
          "output_type": "stream",
          "name": "stdout",
          "text": [
            "Element 1 of Tuple:  2\n"
          ]
        }
      ]
    },
    {
      "cell_type": "code",
      "source": [
        "print(\"Element 2 of Tuple: \", NestedT[2])"
      ],
      "metadata": {
        "colab": {
          "base_uri": "https://localhost:8080/"
        },
        "id": "QjxESrFFtl1S",
        "outputId": "196b08b6-0344-4c01-efa2-100c85480621"
      },
      "execution_count": 18,
      "outputs": [
        {
          "output_type": "stream",
          "name": "stdout",
          "text": [
            "Element 2 of Tuple:  ('pop', 'rock')\n"
          ]
        }
      ]
    },
    {
      "cell_type": "code",
      "source": [
        "print(\"Element 3 of Tuple: \", NestedT[3])"
      ],
      "metadata": {
        "colab": {
          "base_uri": "https://localhost:8080/"
        },
        "id": "TUD7oBMItv7g",
        "outputId": "2f14577e-5c2b-42b5-8a87-8778b52ad55a"
      },
      "execution_count": 19,
      "outputs": [
        {
          "output_type": "stream",
          "name": "stdout",
          "text": [
            "Element 3 of Tuple:  (3, 4)\n"
          ]
        }
      ]
    },
    {
      "cell_type": "code",
      "source": [
        "print(\"Element 4 of Tuple: \", NestedT[4])"
      ],
      "metadata": {
        "colab": {
          "base_uri": "https://localhost:8080/"
        },
        "id": "FNs8s3cZt7o2",
        "outputId": "87a77980-7434-4460-8f72-cf82f98e7a93"
      },
      "execution_count": 20,
      "outputs": [
        {
          "output_type": "stream",
          "name": "stdout",
          "text": [
            "Element 4 of Tuple:  ('disco', (1, 2))\n"
          ]
        }
      ]
    },
    {
      "cell_type": "code",
      "source": [
        "# Print element on each index, including nest indexes\n",
        "\n",
        "print(\"Element 2, 0 of Tuple: \",   NestedT[2][0])\n",
        "print(\"Element 2, 1 of Tuple: \",   NestedT[2][1])\n",
        "print(\"Element 3, 0 of Tuple: \",   NestedT[3][0])\n",
        "print(\"Element 3, 1 of Tuple: \",   NestedT[3][1])\n",
        "print(\"Element 4, 0 of Tuple: \",   NestedT[4][0])\n",
        "print(\"Element 4, 1 of Tuple: \",   NestedT[4][1])"
      ],
      "metadata": {
        "colab": {
          "base_uri": "https://localhost:8080/"
        },
        "id": "bjsxGjFbt_wx",
        "outputId": "79a42149-185e-44f8-ea09-5a0381c0a014"
      },
      "execution_count": 22,
      "outputs": [
        {
          "output_type": "stream",
          "name": "stdout",
          "text": [
            "Element 2, 0 of Tuple:  pop\n",
            "Element 2, 1 of Tuple:  rock\n",
            "Element 3, 0 of Tuple:  3\n",
            "Element 3, 1 of Tuple:  4\n",
            "Element 4, 0 of Tuple:  disco\n",
            "Element 4, 1 of Tuple:  (1, 2)\n"
          ]
        }
      ]
    },
    {
      "cell_type": "code",
      "source": [
        "# Print the first element in the second nested tuples\n",
        "\n",
        "NestedT[2][1][0]"
      ],
      "metadata": {
        "colab": {
          "base_uri": "https://localhost:8080/",
          "height": 35
        },
        "id": "NXgk8aYEuOI3",
        "outputId": "5e2b932f-e707-4126-f7e1-73416e26175c"
      },
      "execution_count": 23,
      "outputs": [
        {
          "output_type": "execute_result",
          "data": {
            "text/plain": [
              "'r'"
            ],
            "application/vnd.google.colaboratory.intrinsic+json": {
              "type": "string"
            }
          },
          "metadata": {},
          "execution_count": 23
        }
      ]
    },
    {
      "cell_type": "code",
      "source": [
        "# Print the firstsecond element in the second nested tuples\n",
        "\n",
        "NestedT[2][1][1]"
      ],
      "metadata": {
        "colab": {
          "base_uri": "https://localhost:8080/",
          "height": 35
        },
        "id": "i-AvEArUugNW",
        "outputId": "95a2824b-42a2-44e8-9e77-916808d1a4dc"
      },
      "execution_count": 25,
      "outputs": [
        {
          "output_type": "execute_result",
          "data": {
            "text/plain": [
              "'o'"
            ],
            "application/vnd.google.colaboratory.intrinsic+json": {
              "type": "string"
            }
          },
          "metadata": {},
          "execution_count": 25
        }
      ]
    },
    {
      "cell_type": "code",
      "source": [
        "# Print the first element in the second nested tuples\n",
        "\n",
        "NestedT[4][1][0]"
      ],
      "metadata": {
        "colab": {
          "base_uri": "https://localhost:8080/"
        },
        "id": "P5uXarjIulG-",
        "outputId": "2f6dd7a8-0ca2-42be-e833-1b2b95e6735d"
      },
      "execution_count": 26,
      "outputs": [
        {
          "output_type": "execute_result",
          "data": {
            "text/plain": [
              "1"
            ]
          },
          "metadata": {},
          "execution_count": 26
        }
      ]
    },
    {
      "cell_type": "code",
      "source": [
        "# Print the second element in the second nested tuples\n",
        "\n",
        "NestedT[4][1][1]"
      ],
      "metadata": {
        "colab": {
          "base_uri": "https://localhost:8080/"
        },
        "id": "BCRV_rpXuuHO",
        "outputId": "cbc51d49-c1a1-4282-df7a-5c76e0655992"
      },
      "execution_count": 27,
      "outputs": [
        {
          "output_type": "execute_result",
          "data": {
            "text/plain": [
              "2"
            ]
          },
          "metadata": {},
          "execution_count": 27
        }
      ]
    },
    {
      "cell_type": "code",
      "source": [
        "# Sample tuple\n",
        "genress_tuple= (\"pop\", \"rock\", \"soul\", \"hard rock\", \"soft rock\", \\\n",
        "                \"R&B\", \"progressive rock\", \"disco\",)\n",
        "genress_tuple"
      ],
      "metadata": {
        "colab": {
          "base_uri": "https://localhost:8080/"
        },
        "id": "W_bbbDxIuxv_",
        "outputId": "62b6a670-72d1-44c1-b44b-68d8621e60df"
      },
      "execution_count": 28,
      "outputs": [
        {
          "output_type": "execute_result",
          "data": {
            "text/plain": [
              "('pop',\n",
              " 'rock',\n",
              " 'soul',\n",
              " 'hard rock',\n",
              " 'soft rock',\n",
              " 'R&B',\n",
              " 'progressive rock',\n",
              " 'disco')"
            ]
          },
          "metadata": {},
          "execution_count": 28
        }
      ]
    },
    {
      "cell_type": "code",
      "source": [
        "len(genress_tuple)"
      ],
      "metadata": {
        "colab": {
          "base_uri": "https://localhost:8080/"
        },
        "id": "2zzDJVvLvqOu",
        "outputId": "ee37be8e-9699-4565-fdea-e193e6d613e4"
      },
      "execution_count": 29,
      "outputs": [
        {
          "output_type": "execute_result",
          "data": {
            "text/plain": [
              "8"
            ]
          },
          "metadata": {},
          "execution_count": 29
        }
      ]
    },
    {
      "cell_type": "code",
      "source": [
        "genress_tuple[3]"
      ],
      "metadata": {
        "colab": {
          "base_uri": "https://localhost:8080/",
          "height": 35
        },
        "id": "lCJD0N4svxx6",
        "outputId": "e5f1e22d-6355-4829-8599-3faa004ea01a"
      },
      "execution_count": 30,
      "outputs": [
        {
          "output_type": "execute_result",
          "data": {
            "text/plain": [
              "'hard rock'"
            ],
            "application/vnd.google.colaboratory.intrinsic+json": {
              "type": "string"
            }
          },
          "metadata": {},
          "execution_count": 30
        }
      ]
    },
    {
      "cell_type": "code",
      "source": [
        "genress_tuple[3:6]"
      ],
      "metadata": {
        "colab": {
          "base_uri": "https://localhost:8080/"
        },
        "id": "QNdBjAvlv941",
        "outputId": "1ab09fe5-e2ba-4c55-edf2-ccd84a30361a"
      },
      "execution_count": 31,
      "outputs": [
        {
          "output_type": "execute_result",
          "data": {
            "text/plain": [
              "('hard rock', 'soft rock', 'R&B')"
            ]
          },
          "metadata": {},
          "execution_count": 31
        }
      ]
    },
    {
      "cell_type": "code",
      "source": [
        "print(\"Element 1 of Tuple: \", genress_tuple[1])"
      ],
      "metadata": {
        "colab": {
          "base_uri": "https://localhost:8080/"
        },
        "id": "05k8ffXlwMME",
        "outputId": "c35e7785-d9f9-44ff-e030-c13b3e6634d1"
      },
      "execution_count": 34,
      "outputs": [
        {
          "output_type": "stream",
          "name": "stdout",
          "text": [
            "Element 1 of Tuple:  rock\n"
          ]
        }
      ]
    },
    {
      "cell_type": "code",
      "source": [
        "genress_tuple"
      ],
      "metadata": {
        "colab": {
          "base_uri": "https://localhost:8080/"
        },
        "id": "klQt7k0uwQ5y",
        "outputId": "8332f30e-d76c-437b-c381-73e8dddb0680"
      },
      "execution_count": 35,
      "outputs": [
        {
          "output_type": "execute_result",
          "data": {
            "text/plain": [
              "('pop',\n",
              " 'rock',\n",
              " 'soul',\n",
              " 'hard rock',\n",
              " 'soft rock',\n",
              " 'R&B',\n",
              " 'progressive rock',\n",
              " 'disco')"
            ]
          },
          "metadata": {},
          "execution_count": 35
        }
      ]
    },
    {
      "cell_type": "code",
      "source": [
        "genress_tuple[0:2]"
      ],
      "metadata": {
        "colab": {
          "base_uri": "https://localhost:8080/"
        },
        "id": "NnHxC15qwq4S",
        "outputId": "b38f43a9-4f91-4eb9-ac9e-f82153df9276"
      },
      "execution_count": 38,
      "outputs": [
        {
          "output_type": "execute_result",
          "data": {
            "text/plain": [
              "('pop', 'rock')"
            ]
          },
          "metadata": {},
          "execution_count": 38
        }
      ]
    },
    {
      "cell_type": "code",
      "source": [
        "genress_tuple[7]"
      ],
      "metadata": {
        "colab": {
          "base_uri": "https://localhost:8080/",
          "height": 35
        },
        "id": "_b05bD5Iw1Kd",
        "outputId": "1ba11c23-c269-4c23-9b2e-0939de510d8e"
      },
      "execution_count": 39,
      "outputs": [
        {
          "output_type": "execute_result",
          "data": {
            "text/plain": [
              "'disco'"
            ],
            "application/vnd.google.colaboratory.intrinsic+json": {
              "type": "string"
            }
          },
          "metadata": {},
          "execution_count": 39
        }
      ]
    },
    {
      "cell_type": "code",
      "source": [
        "\"disco\".find('o')"
      ],
      "metadata": {
        "colab": {
          "base_uri": "https://localhost:8080/"
        },
        "id": "jMKv7ycJxDdq",
        "outputId": "75a603d5-5776-4714-f6f8-8f5f29ad20dd"
      },
      "execution_count": 42,
      "outputs": [
        {
          "output_type": "execute_result",
          "data": {
            "text/plain": [
              "4"
            ]
          },
          "metadata": {},
          "execution_count": 42
        }
      ]
    },
    {
      "cell_type": "code",
      "source": [
        "C_tuple=(-5,1,-3)"
      ],
      "metadata": {
        "id": "rNwdj3Ocxdv8"
      },
      "execution_count": 43,
      "outputs": []
    },
    {
      "cell_type": "code",
      "source": [
        "C_list=sorted(C_tuple)\n",
        "C_list"
      ],
      "metadata": {
        "colab": {
          "base_uri": "https://localhost:8080/"
        },
        "id": "XN2e9x6wxtpb",
        "outputId": "e884cbeb-d57f-49c3-9d8c-3ee3f235d412"
      },
      "execution_count": 44,
      "outputs": [
        {
          "output_type": "execute_result",
          "data": {
            "text/plain": [
              "[-5, -3, 1]"
            ]
          },
          "metadata": {},
          "execution_count": 44
        }
      ]
    },
    {
      "cell_type": "code",
      "source": [],
      "metadata": {
        "id": "1k47iEJ-yJfq"
      },
      "execution_count": null,
      "outputs": []
    }
  ]
}